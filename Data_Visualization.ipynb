{
  "cells": [
    {
      "cell_type": "markdown",
      "metadata": {
        "id": "view-in-github",
        "colab_type": "text"
      },
      "source": [
        "<a href=\"https://colab.research.google.com/github/paulohenrique1303/DataVisualization/blob/main/Data_Visualization.ipynb\" target=\"_parent\"><img src=\"https://colab.research.google.com/assets/colab-badge.svg\" alt=\"Open In Colab\"/></a>"
      ]
    },
    {
      "cell_type": "markdown",
      "metadata": {
        "id": "wFi1A-FrgKal"
      },
      "source": [
        "# Graficos de Histograma"
      ]
    },
    {
      "cell_type": "code",
      "source": [
        "from google.colab import drive\n",
        "drive.mount('/content/drive')"
      ],
      "metadata": {
        "id": "TWpSpDw_hkYw",
        "colab": {
          "base_uri": "https://localhost:8080/"
        },
        "outputId": "60265b2a-16e4-4db7-ac56-dc262ce01849"
      },
      "execution_count": 1,
      "outputs": [
        {
          "output_type": "stream",
          "name": "stdout",
          "text": [
            "Mounted at /content/drive\n"
          ]
        }
      ]
    },
    {
      "cell_type": "code",
      "execution_count": 2,
      "metadata": {
        "id": "89ol7va9gKap"
      },
      "outputs": [],
      "source": [
        "import pandas as pd\n",
        "import numpy as np\n",
        "import matplotlib.pyplot as plt\n",
        "import seaborn as sea"
      ]
    },
    {
      "cell_type": "code",
      "execution_count": 3,
      "metadata": {
        "id": "kxCuVWC-gKar",
        "colab": {
          "base_uri": "https://localhost:8080/"
        },
        "outputId": "f9ebd3d0-d8e4-422d-e00a-cc28db163abf"
      },
      "outputs": [
        {
          "output_type": "execute_result",
          "data": {
            "text/plain": [
              "(31, 3)"
            ]
          },
          "metadata": {},
          "execution_count": 3
        }
      ],
      "source": [
        "base = pd.read_csv('/content/drive/MyDrive/todos os arquivos/13.Prática em Python/dados/trees.csv')\n",
        "base.shape"
      ]
    },
    {
      "cell_type": "code",
      "execution_count": 4,
      "metadata": {
        "id": "23kGpvbDgKar",
        "colab": {
          "base_uri": "https://localhost:8080/",
          "height": 206
        },
        "outputId": "0db6efa0-5fd5-4d5e-9f23-df70be4205e6"
      },
      "outputs": [
        {
          "output_type": "execute_result",
          "data": {
            "text/plain": [
              "   Girth  Height  Volume\n",
              "0    8.3      70    10.3\n",
              "1    8.6      65    10.3\n",
              "2    8.8      63    10.2\n",
              "3   10.5      72    16.4\n",
              "4   10.7      81    18.8"
            ],
            "text/html": [
              "\n",
              "  <div id=\"df-e23a8c5a-021a-453e-91d1-c501b158d89b\">\n",
              "    <div class=\"colab-df-container\">\n",
              "      <div>\n",
              "<style scoped>\n",
              "    .dataframe tbody tr th:only-of-type {\n",
              "        vertical-align: middle;\n",
              "    }\n",
              "\n",
              "    .dataframe tbody tr th {\n",
              "        vertical-align: top;\n",
              "    }\n",
              "\n",
              "    .dataframe thead th {\n",
              "        text-align: right;\n",
              "    }\n",
              "</style>\n",
              "<table border=\"1\" class=\"dataframe\">\n",
              "  <thead>\n",
              "    <tr style=\"text-align: right;\">\n",
              "      <th></th>\n",
              "      <th>Girth</th>\n",
              "      <th>Height</th>\n",
              "      <th>Volume</th>\n",
              "    </tr>\n",
              "  </thead>\n",
              "  <tbody>\n",
              "    <tr>\n",
              "      <th>0</th>\n",
              "      <td>8.3</td>\n",
              "      <td>70</td>\n",
              "      <td>10.3</td>\n",
              "    </tr>\n",
              "    <tr>\n",
              "      <th>1</th>\n",
              "      <td>8.6</td>\n",
              "      <td>65</td>\n",
              "      <td>10.3</td>\n",
              "    </tr>\n",
              "    <tr>\n",
              "      <th>2</th>\n",
              "      <td>8.8</td>\n",
              "      <td>63</td>\n",
              "      <td>10.2</td>\n",
              "    </tr>\n",
              "    <tr>\n",
              "      <th>3</th>\n",
              "      <td>10.5</td>\n",
              "      <td>72</td>\n",
              "      <td>16.4</td>\n",
              "    </tr>\n",
              "    <tr>\n",
              "      <th>4</th>\n",
              "      <td>10.7</td>\n",
              "      <td>81</td>\n",
              "      <td>18.8</td>\n",
              "    </tr>\n",
              "  </tbody>\n",
              "</table>\n",
              "</div>\n",
              "      <button class=\"colab-df-convert\" onclick=\"convertToInteractive('df-e23a8c5a-021a-453e-91d1-c501b158d89b')\"\n",
              "              title=\"Convert this dataframe to an interactive table.\"\n",
              "              style=\"display:none;\">\n",
              "        \n",
              "  <svg xmlns=\"http://www.w3.org/2000/svg\" height=\"24px\"viewBox=\"0 0 24 24\"\n",
              "       width=\"24px\">\n",
              "    <path d=\"M0 0h24v24H0V0z\" fill=\"none\"/>\n",
              "    <path d=\"M18.56 5.44l.94 2.06.94-2.06 2.06-.94-2.06-.94-.94-2.06-.94 2.06-2.06.94zm-11 1L8.5 8.5l.94-2.06 2.06-.94-2.06-.94L8.5 2.5l-.94 2.06-2.06.94zm10 10l.94 2.06.94-2.06 2.06-.94-2.06-.94-.94-2.06-.94 2.06-2.06.94z\"/><path d=\"M17.41 7.96l-1.37-1.37c-.4-.4-.92-.59-1.43-.59-.52 0-1.04.2-1.43.59L10.3 9.45l-7.72 7.72c-.78.78-.78 2.05 0 2.83L4 21.41c.39.39.9.59 1.41.59.51 0 1.02-.2 1.41-.59l7.78-7.78 2.81-2.81c.8-.78.8-2.07 0-2.86zM5.41 20L4 18.59l7.72-7.72 1.47 1.35L5.41 20z\"/>\n",
              "  </svg>\n",
              "      </button>\n",
              "      \n",
              "  <style>\n",
              "    .colab-df-container {\n",
              "      display:flex;\n",
              "      flex-wrap:wrap;\n",
              "      gap: 12px;\n",
              "    }\n",
              "\n",
              "    .colab-df-convert {\n",
              "      background-color: #E8F0FE;\n",
              "      border: none;\n",
              "      border-radius: 50%;\n",
              "      cursor: pointer;\n",
              "      display: none;\n",
              "      fill: #1967D2;\n",
              "      height: 32px;\n",
              "      padding: 0 0 0 0;\n",
              "      width: 32px;\n",
              "    }\n",
              "\n",
              "    .colab-df-convert:hover {\n",
              "      background-color: #E2EBFA;\n",
              "      box-shadow: 0px 1px 2px rgba(60, 64, 67, 0.3), 0px 1px 3px 1px rgba(60, 64, 67, 0.15);\n",
              "      fill: #174EA6;\n",
              "    }\n",
              "\n",
              "    [theme=dark] .colab-df-convert {\n",
              "      background-color: #3B4455;\n",
              "      fill: #D2E3FC;\n",
              "    }\n",
              "\n",
              "    [theme=dark] .colab-df-convert:hover {\n",
              "      background-color: #434B5C;\n",
              "      box-shadow: 0px 1px 3px 1px rgba(0, 0, 0, 0.15);\n",
              "      filter: drop-shadow(0px 1px 2px rgba(0, 0, 0, 0.3));\n",
              "      fill: #FFFFFF;\n",
              "    }\n",
              "  </style>\n",
              "\n",
              "      <script>\n",
              "        const buttonEl =\n",
              "          document.querySelector('#df-e23a8c5a-021a-453e-91d1-c501b158d89b button.colab-df-convert');\n",
              "        buttonEl.style.display =\n",
              "          google.colab.kernel.accessAllowed ? 'block' : 'none';\n",
              "\n",
              "        async function convertToInteractive(key) {\n",
              "          const element = document.querySelector('#df-e23a8c5a-021a-453e-91d1-c501b158d89b');\n",
              "          const dataTable =\n",
              "            await google.colab.kernel.invokeFunction('convertToInteractive',\n",
              "                                                     [key], {});\n",
              "          if (!dataTable) return;\n",
              "\n",
              "          const docLinkHtml = 'Like what you see? Visit the ' +\n",
              "            '<a target=\"_blank\" href=https://colab.research.google.com/notebooks/data_table.ipynb>data table notebook</a>'\n",
              "            + ' to learn more about interactive tables.';\n",
              "          element.innerHTML = '';\n",
              "          dataTable['output_type'] = 'display_data';\n",
              "          await google.colab.output.renderOutput(dataTable, element);\n",
              "          const docLink = document.createElement('div');\n",
              "          docLink.innerHTML = docLinkHtml;\n",
              "          element.appendChild(docLink);\n",
              "        }\n",
              "      </script>\n",
              "    </div>\n",
              "  </div>\n",
              "  "
            ]
          },
          "metadata": {},
          "execution_count": 4
        }
      ],
      "source": [
        "#dados\n",
        "base.head()"
      ]
    },
    {
      "cell_type": "code",
      "execution_count": 5,
      "metadata": {
        "id": "dGzVJtk6gKas",
        "colab": {
          "base_uri": "https://localhost:8080/"
        },
        "outputId": "bef21e42-b7e9-4660-df30-4ef0773c9dd5"
      },
      "outputs": [
        {
          "output_type": "execute_result",
          "data": {
            "text/plain": [
              "(array([4, 2, 5, 7, 9, 4]), array([63., 67., 71., 75., 79., 83., 87.]))"
            ]
          },
          "metadata": {},
          "execution_count": 5
        }
      ],
      "source": [
        "# Criação do histograma, considerando somente o segundo atributo da base de dados e com duas divisões (bins)\n",
        "# A variável 'h' armazena as faixas de valores de Height\n",
        "h = np.histogram(base['Height'], bins = 6)\n",
        "h"
      ]
    },
    {
      "cell_type": "markdown",
      "source": [
        "Utilizando o Matplotlib"
      ],
      "metadata": {
        "id": "QHlrKBfBj64I"
      }
    },
    {
      "cell_type": "code",
      "execution_count": 6,
      "metadata": {
        "id": "tPcczBUTgKas",
        "colab": {
          "base_uri": "https://localhost:8080/",
          "height": 312
        },
        "outputId": "5e68a588-328b-4ad1-ade9-969c3900fb26"
      },
      "outputs": [
        {
          "output_type": "execute_result",
          "data": {
            "text/plain": [
              "Text(0.5, 0, 'Altura')"
            ]
          },
          "metadata": {},
          "execution_count": 6
        },
        {
          "output_type": "display_data",
          "data": {
            "text/plain": [
              "<Figure size 432x288 with 1 Axes>"
            ],
            "image/png": "[encoded data removed]"
          },
          "metadata": {
            "needs_background": "light"
          }
        }
      ],
      "source": [
        "# Visualização do histograma com 6 divisões (bins)\n",
        "plt.hist(base['Height'], bins = 6)\n",
        "plt.title('Árvores')\n",
        "plt.ylabel('Frequência')\n",
        "plt.xlabel('Altura')"
      ]
    },
    {
      "cell_type": "markdown",
      "source": [
        "Utilizando o Seaborn"
      ],
      "metadata": {
        "id": "0bgAVuVHj2VP"
      }
    },
    {
      "cell_type": "code",
      "source": [
        "sea.displot(base['Height'])"
      ],
      "metadata": {
        "id": "rrJtNstDj1vo",
        "colab": {
          "base_uri": "https://localhost:8080/",
          "height": 386
        },
        "outputId": "2716951e-b5ae-4828-e98f-8ec8adc957c3"
      },
      "execution_count": 7,
      "outputs": [
        {
          "output_type": "execute_result",
          "data": {
            "text/plain": [
              "<seaborn.axisgrid.FacetGrid at 0x7fa2e9a154d0>"
            ]
          },
          "metadata": {},
          "execution_count": 7
        },
        {
          "output_type": "display_data",
          "data": {
            "text/plain": [
              "<Figure size 360x360 with 1 Axes>"
            ],
            "image/png": "[encoded data removed]"
          },
          "metadata": {
            "needs_background": "light"
          }
        }
      ]
    },
    {
      "cell_type": "code",
      "source": [
        "sea.histplot(base['Height'])"
      ],
      "metadata": {
        "id": "xshK9Ftqb7qu",
        "colab": {
          "base_uri": "https://localhost:8080/",
          "height": 296
        },
        "outputId": "a2be33ce-05f4-4526-e743-dea4cca87998"
      },
      "execution_count": 8,
      "outputs": [
        {
          "output_type": "execute_result",
          "data": {
            "text/plain": [
              "<matplotlib.axes._subplots.AxesSubplot at 0x7fa2e6c9d210>"
            ]
          },
          "metadata": {},
          "execution_count": 8
        },
        {
          "output_type": "display_data",
          "data": {
            "text/plain": [
              "<Figure size 432x288 with 1 Axes>"
            ],
            "image/png": "[encoded data removed]"
          },
          "metadata": {
            "needs_background": "light"
          }
        }
      ]
    },
    {
      "cell_type": "code",
      "source": [
        "sea.displot(base['Height'], kde= True)"
      ],
      "metadata": {
        "id": "hXQDPG6old9n",
        "colab": {
          "base_uri": "https://localhost:8080/",
          "height": 386
        },
        "outputId": "bdeaae75-d7a3-4944-b21c-47e50ed84dce"
      },
      "execution_count": 9,
      "outputs": [
        {
          "output_type": "execute_result",
          "data": {
            "text/plain": [
              "<seaborn.axisgrid.FacetGrid at 0x7fa2e6c67550>"
            ]
          },
          "metadata": {},
          "execution_count": 9
        },
        {
          "output_type": "display_data",
          "data": {
            "text/plain": [
              "<Figure size 360x360 with 1 Axes>"
            ],
            "image/png": "[encoded data removed]"
          },
          "metadata": {
            "needs_background": "light"
          }
        }
      ]
    },
    {
      "cell_type": "markdown",
      "source": [
        "#Gráficos de Densidade"
      ],
      "metadata": {
        "id": "1ftl3GtEctKO"
      }
    },
    {
      "cell_type": "code",
      "source": [
        "sea.distplot(base['Height'],hist= False, kde= True)"
      ],
      "metadata": {
        "id": "GDuDcxfZc0Zt",
        "colab": {
          "base_uri": "https://localhost:8080/",
          "height": 0
        },
        "outputId": "5216609a-bbae-461c-9e5f-1d05bd7fb9bd"
      },
      "execution_count": 10,
      "outputs": [
        {
          "output_type": "stream",
          "name": "stderr",
          "text": [
            "/usr/local/lib/python3.7/dist-packages/seaborn/distributions.py:2619: FutureWarning: `distplot` is a deprecated function and will be removed in a future version. Please adapt your code to use either `displot` (a figure-level function with similar flexibility) or `kdeplot` (an axes-level function for kernel density plots).\n",
            "  warnings.warn(msg, FutureWarning)\n"
          ]
        },
        {
          "output_type": "execute_result",
          "data": {
            "text/plain": [
              "<matplotlib.axes._subplots.AxesSubplot at 0x7fa2e6b6aad0>"
            ]
          },
          "metadata": {},
          "execution_count": 10
        },
        {
          "output_type": "display_data",
          "data": {
            "text/plain": [
              "<Figure size 432x288 with 1 Axes>"
            ],
            "image/png": "[encoded data removed]"
          },
          "metadata": {
            "needs_background": "light"
          }
        }
      ]
    },
    {
      "cell_type": "code",
      "source": [
        "sea.distplot(base['Height'],hist= True, kde= True, bins= 6, hist_kws= {'edgecolor':'black'})"
      ],
      "metadata": {
        "id": "q4menSI3dDc1",
        "colab": {
          "base_uri": "https://localhost:8080/",
          "height": 0
        },
        "outputId": "3b662cc1-6aeb-4dce-9988-b54c24c4c239"
      },
      "execution_count": 11,
      "outputs": [
        {
          "output_type": "stream",
          "name": "stderr",
          "text": [
            "/usr/local/lib/python3.7/dist-packages/seaborn/distributions.py:2619: FutureWarning: `distplot` is a deprecated function and will be removed in a future version. Please adapt your code to use either `displot` (a figure-level function with similar flexibility) or `histplot` (an axes-level function for histograms).\n",
            "  warnings.warn(msg, FutureWarning)\n"
          ]
        },
        {
          "output_type": "execute_result",
          "data": {
            "text/plain": [
              "<matplotlib.axes._subplots.AxesSubplot at 0x7fa2e6b52990>"
            ]
          },
          "metadata": {},
          "execution_count": 11
        },
        {
          "output_type": "display_data",
          "data": {
            "text/plain": [
              "<Figure size 432x288 with 1 Axes>"
            ],
            "image/png": "[encoded data removed]"
          },
          "metadata": {
            "needs_background": "light"
          }
        }
      ]
    },
    {
      "cell_type": "markdown",
      "source": [
        "#Gráficos de Dispersão"
      ],
      "metadata": {
        "id": "f2OVdCl4d6Y1"
      }
    },
    {
      "cell_type": "code",
      "source": [
        "plt.scatter(base['Girth'], base['Volume'], color = 'blue', facecolors= 'none', marker= '*')\n",
        "plt.title('Arvores')\n",
        "plt.xlabel('Volume')\n",
        "plt.ylabel('Circunferencia')"
      ],
      "metadata": {
        "id": "MgZwhuJWd_DU",
        "colab": {
          "base_uri": "https://localhost:8080/",
          "height": 0
        },
        "outputId": "8719a36b-88ea-45eb-e327-e126251063eb"
      },
      "execution_count": 12,
      "outputs": [
        {
          "output_type": "execute_result",
          "data": {
            "text/plain": [
              "Text(0, 0.5, 'Circunferencia')"
            ]
          },
          "metadata": {},
          "execution_count": 12
        },
        {
          "output_type": "display_data",
          "data": {
            "text/plain": [
              "<Figure size 432x288 with 1 Axes>"
            ],
            "image/png": "[encoded data removed]"
          },
          "metadata": {
            "needs_background": "light"
          }
        }
      ]
    },
    {
      "cell_type": "code",
      "source": [
        "plt.plot(base['Girth'], base['Volume'])\n",
        "plt.title('Arvores')\n",
        "plt.xlabel('Circunferencia')\n",
        "plt.ylabel('Volume')"
      ],
      "metadata": {
        "id": "XnH0sFVFfWBN",
        "colab": {
          "base_uri": "https://localhost:8080/",
          "height": 0
        },
        "outputId": "c9eed23c-b559-4c7c-ef7f-dcad9e128af4"
      },
      "execution_count": 13,
      "outputs": [
        {
          "output_type": "execute_result",
          "data": {
            "text/plain": [
              "Text(0, 0.5, 'Volume')"
            ]
          },
          "metadata": {},
          "execution_count": 13
        },
        {
          "output_type": "display_data",
          "data": {
            "text/plain": [
              "<Figure size 432x288 with 1 Axes>"
            ],
            "image/png": "[encoded data removed]"
          },
          "metadata": {
            "needs_background": "light"
          }
        }
      ]
    },
    {
      "cell_type": "code",
      "source": [
        "#Graficos de Dispersão com afastamento dos dados.\n",
        "sea.regplot(base['Girth'], base['Volume'], x_jitter= 0.3, fit_reg= False)"
      ],
      "metadata": {
        "id": "ub379XH5gw3r",
        "colab": {
          "base_uri": "https://localhost:8080/",
          "height": 0
        },
        "outputId": "a4d3d0cc-a3d8-404b-ddde-f8fb0059e83b"
      },
      "execution_count": 14,
      "outputs": [
        {
          "output_type": "stream",
          "name": "stderr",
          "text": [
            "/usr/local/lib/python3.7/dist-packages/seaborn/_decorators.py:43: FutureWarning: Pass the following variables as keyword args: x, y. From version 0.12, the only valid positional argument will be `data`, and passing other arguments without an explicit keyword will result in an error or misinterpretation.\n",
            "  FutureWarning\n"
          ]
        },
        {
          "output_type": "execute_result",
          "data": {
            "text/plain": [
              "<matplotlib.axes._subplots.AxesSubplot at 0x7fa2e69b6c10>"
            ]
          },
          "metadata": {},
          "execution_count": 14
        },
        {
          "output_type": "display_data",
          "data": {
            "text/plain": [
              "<Figure size 432x288 with 1 Axes>"
            ],
            "image/png": "[encoded data removed]"
          },
          "metadata": {
            "needs_background": "light"
          }
        }
      ]
    },
    {
      "cell_type": "markdown",
      "source": [
        "#Grafico de Dispersão com variável categórica"
      ],
      "metadata": {
        "id": "A0jaNsY9lPjj"
      }
    },
    {
      "cell_type": "code",
      "source": [
        "base2 = pd.read_csv('/content/drive/MyDrive/todos os arquivos/13.Prática em Python/dados/co2.csv')\n",
        "base2.head()"
      ],
      "metadata": {
        "id": "m7SFEoIchmRs",
        "colab": {
          "base_uri": "https://localhost:8080/",
          "height": 0
        },
        "outputId": "ff8448b3-0e0a-49c4-cf5f-9b4c8b228420"
      },
      "execution_count": 15,
      "outputs": [
        {
          "output_type": "execute_result",
          "data": {
            "text/plain": [
              "  Plant    Type   Treatment  conc  uptake\n",
              "0   Qn1  Quebec  nonchilled    95    16.0\n",
              "1   Qn1  Quebec  nonchilled   175    30.4\n",
              "2   Qn1  Quebec  nonchilled   250    34.8\n",
              "3   Qn1  Quebec  nonchilled   350    37.2\n",
              "4   Qn1  Quebec  nonchilled   500    35.3"
            ],
            "text/html": [
              "\n",
              "  <div id=\"df-549368b2-826d-48de-80a2-6759e0f25465\">\n",
              "    <div class=\"colab-df-container\">\n",
              "      <div>\n",
              "<style scoped>\n",
              "    .dataframe tbody tr th:only-of-type {\n",
              "        vertical-align: middle;\n",
              "    }\n",
              "\n",
              "    .dataframe tbody tr th {\n",
              "        vertical-align: top;\n",
              "    }\n",
              "\n",
              "    .dataframe thead th {\n",
              "        text-align: right;\n",
              "    }\n",
              "</style>\n",
              "<table border=\"1\" class=\"dataframe\">\n",
              "  <thead>\n",
              "    <tr style=\"text-align: right;\">\n",
              "      <th></th>\n",
              "      <th>Plant</th>\n",
              "      <th>Type</th>\n",
              "      <th>Treatment</th>\n",
              "      <th>conc</th>\n",
              "      <th>uptake</th>\n",
              "    </tr>\n",
              "  </thead>\n",
              "  <tbody>\n",
              "    <tr>\n",
              "      <th>0</th>\n",
              "      <td>Qn1</td>\n",
              "      <td>Quebec</td>\n",
              "      <td>nonchilled</td>\n",
              "      <td>95</td>\n",
              "      <td>16.0</td>\n",
              "    </tr>\n",
              "    <tr>\n",
              "      <th>1</th>\n",
              "      <td>Qn1</td>\n",
              "      <td>Quebec</td>\n",
              "      <td>nonchilled</td>\n",
              "      <td>175</td>\n",
              "      <td>30.4</td>\n",
              "    </tr>\n",
              "    <tr>\n",
              "      <th>2</th>\n",
              "      <td>Qn1</td>\n",
              "      <td>Quebec</td>\n",
              "      <td>nonchilled</td>\n",
              "      <td>250</td>\n",
              "      <td>34.8</td>\n",
              "    </tr>\n",
              "    <tr>\n",
              "      <th>3</th>\n",
              "      <td>Qn1</td>\n",
              "      <td>Quebec</td>\n",
              "      <td>nonchilled</td>\n",
              "      <td>350</td>\n",
              "      <td>37.2</td>\n",
              "    </tr>\n",
              "    <tr>\n",
              "      <th>4</th>\n",
              "      <td>Qn1</td>\n",
              "      <td>Quebec</td>\n",
              "      <td>nonchilled</td>\n",
              "      <td>500</td>\n",
              "      <td>35.3</td>\n",
              "    </tr>\n",
              "  </tbody>\n",
              "</table>\n",
              "</div>\n",
              "      <button class=\"colab-df-convert\" onclick=\"convertToInteractive('df-549368b2-826d-48de-80a2-6759e0f25465')\"\n",
              "              title=\"Convert this dataframe to an interactive table.\"\n",
              "              style=\"display:none;\">\n",
              "        \n",
              "  <svg xmlns=\"http://www.w3.org/2000/svg\" height=\"24px\"viewBox=\"0 0 24 24\"\n",
              "       width=\"24px\">\n",
              "    <path d=\"M0 0h24v24H0V0z\" fill=\"none\"/>\n",
              "    <path d=\"M18.56 5.44l.94 2.06.94-2.06 2.06-.94-2.06-.94-.94-2.06-.94 2.06-2.06.94zm-11 1L8.5 8.5l.94-2.06 2.06-.94-2.06-.94L8.5 2.5l-.94 2.06-2.06.94zm10 10l.94 2.06.94-2.06 2.06-.94-2.06-.94-.94-2.06-.94 2.06-2.06.94z\"/><path d=\"M17.41 7.96l-1.37-1.37c-.4-.4-.92-.59-1.43-.59-.52 0-1.04.2-1.43.59L10.3 9.45l-7.72 7.72c-.78.78-.78 2.05 0 2.83L4 21.41c.39.39.9.59 1.41.59.51 0 1.02-.2 1.41-.59l7.78-7.78 2.81-2.81c.8-.78.8-2.07 0-2.86zM5.41 20L4 18.59l7.72-7.72 1.47 1.35L5.41 20z\"/>\n",
              "  </svg>\n",
              "      </button>\n",
              "      \n",
              "  <style>\n",
              "    .colab-df-container {\n",
              "      display:flex;\n",
              "      flex-wrap:wrap;\n",
              "      gap: 12px;\n",
              "    }\n",
              "\n",
              "    .colab-df-convert {\n",
              "      background-color: #E8F0FE;\n",
              "      border: none;\n",
              "      border-radius: 50%;\n",
              "      cursor: pointer;\n",
              "      display: none;\n",
              "      fill: #1967D2;\n",
              "      height: 32px;\n",
              "      padding: 0 0 0 0;\n",
              "      width: 32px;\n",
              "    }\n",
              "\n",
              "    .colab-df-convert:hover {\n",
              "      background-color: #E2EBFA;\n",
              "      box-shadow: 0px 1px 2px rgba(60, 64, 67, 0.3), 0px 1px 3px 1px rgba(60, 64, 67, 0.15);\n",
              "      fill: #174EA6;\n",
              "    }\n",
              "\n",
              "    [theme=dark] .colab-df-convert {\n",
              "      background-color: #3B4455;\n",
              "      fill: #D2E3FC;\n",
              "    }\n",
              "\n",
              "    [theme=dark] .colab-df-convert:hover {\n",
              "      background-color: #434B5C;\n",
              "      box-shadow: 0px 1px 3px 1px rgba(0, 0, 0, 0.15);\n",
              "      filter: drop-shadow(0px 1px 2px rgba(0, 0, 0, 0.3));\n",
              "      fill: #FFFFFF;\n",
              "    }\n",
              "  </style>\n",
              "\n",
              "      <script>\n",
              "        const buttonEl =\n",
              "          document.querySelector('#df-549368b2-826d-48de-80a2-6759e0f25465 button.colab-df-convert');\n",
              "        buttonEl.style.display =\n",
              "          google.colab.kernel.accessAllowed ? 'block' : 'none';\n",
              "\n",
              "        async function convertToInteractive(key) {\n",
              "          const element = document.querySelector('#df-549368b2-826d-48de-80a2-6759e0f25465');\n",
              "          const dataTable =\n",
              "            await google.colab.kernel.invokeFunction('convertToInteractive',\n",
              "                                                     [key], {});\n",
              "          if (!dataTable) return;\n",
              "\n",
              "          const docLinkHtml = 'Like what you see? Visit the ' +\n",
              "            '<a target=\"_blank\" href=https://colab.research.google.com/notebooks/data_table.ipynb>data table notebook</a>'\n",
              "            + ' to learn more about interactive tables.';\n",
              "          element.innerHTML = '';\n",
              "          dataTable['output_type'] = 'display_data';\n",
              "          await google.colab.output.renderOutput(dataTable, element);\n",
              "          const docLink = document.createElement('div');\n",
              "          docLink.innerHTML = docLinkHtml;\n",
              "          element.appendChild(docLink);\n",
              "        }\n",
              "      </script>\n",
              "    </div>\n",
              "  </div>\n",
              "  "
            ]
          },
          "metadata": {},
          "execution_count": 15
        }
      ]
    },
    {
      "cell_type": "code",
      "source": [
        "x = base2['conc']\n",
        "y = base2['uptake']\n",
        "label = list(set(base2['Treatment']))\n",
        "label"
      ],
      "metadata": {
        "id": "h-IlUyfOl4MC",
        "colab": {
          "base_uri": "https://localhost:8080/"
        },
        "outputId": "e177b796-1c9d-4cfc-e103-3da443e886bc"
      },
      "execution_count": 16,
      "outputs": [
        {
          "output_type": "execute_result",
          "data": {
            "text/plain": [
              "['chilled', 'nonchilled']"
            ]
          },
          "metadata": {},
          "execution_count": 16
        }
      ]
    },
    {
      "cell_type": "code",
      "source": [
        "for i in range(len(label)):\n",
        "    indice = base2.Treatment == label[i]\n",
        "    plt.scatter(x[indice], y[indice], label = label[i])\n",
        "plt.legend(loc = 'lower right')"
      ],
      "metadata": {
        "id": "6i-12adDmega",
        "colab": {
          "base_uri": "https://localhost:8080/",
          "height": 0
        },
        "outputId": "1c1ed7ad-fd4b-452e-9488-cddd261c3c96"
      },
      "execution_count": 17,
      "outputs": [
        {
          "output_type": "execute_result",
          "data": {
            "text/plain": [
              "<matplotlib.legend.Legend at 0x7fa2e6941690>"
            ]
          },
          "metadata": {},
          "execution_count": 17
        },
        {
          "output_type": "display_data",
          "data": {
            "text/plain": [
              "<Figure size 432x288 with 1 Axes>"
            ],
            "image/png": "[encoded data removed]"
          },
          "metadata": {
            "needs_background": "light"
          }
        }
      ]
    },
    {
      "cell_type": "markdown",
      "source": [
        "#Gráfico de Boxplot"
      ],
      "metadata": {
        "id": "_tLlX5Uw210z"
      }
    },
    {
      "cell_type": "code",
      "source": [
        "base.head()"
      ],
      "metadata": {
        "colab": {
          "base_uri": "https://localhost:8080/",
          "height": 206
        },
        "id": "QJu-q1Zi25lr",
        "outputId": "54ba19fb-77c2-4051-b335-b7cc6bbafb9c"
      },
      "execution_count": 18,
      "outputs": [
        {
          "output_type": "execute_result",
          "data": {
            "text/plain": [
              "   Girth  Height  Volume\n",
              "0    8.3      70    10.3\n",
              "1    8.6      65    10.3\n",
              "2    8.8      63    10.2\n",
              "3   10.5      72    16.4\n",
              "4   10.7      81    18.8"
            ],
            "text/html": [
              "\n",
              "  <div id=\"df-f3068780-5c1c-46ba-8671-9e4bf0723926\">\n",
              "    <div class=\"colab-df-container\">\n",
              "      <div>\n",
              "<style scoped>\n",
              "    .dataframe tbody tr th:only-of-type {\n",
              "        vertical-align: middle;\n",
              "    }\n",
              "\n",
              "    .dataframe tbody tr th {\n",
              "        vertical-align: top;\n",
              "    }\n",
              "\n",
              "    .dataframe thead th {\n",
              "        text-align: right;\n",
              "    }\n",
              "</style>\n",
              "<table border=\"1\" class=\"dataframe\">\n",
              "  <thead>\n",
              "    <tr style=\"text-align: right;\">\n",
              "      <th></th>\n",
              "      <th>Girth</th>\n",
              "      <th>Height</th>\n",
              "      <th>Volume</th>\n",
              "    </tr>\n",
              "  </thead>\n",
              "  <tbody>\n",
              "    <tr>\n",
              "      <th>0</th>\n",
              "      <td>8.3</td>\n",
              "      <td>70</td>\n",
              "      <td>10.3</td>\n",
              "    </tr>\n",
              "    <tr>\n",
              "      <th>1</th>\n",
              "      <td>8.6</td>\n",
              "      <td>65</td>\n",
              "      <td>10.3</td>\n",
              "    </tr>\n",
              "    <tr>\n",
              "      <th>2</th>\n",
              "      <td>8.8</td>\n",
              "      <td>63</td>\n",
              "      <td>10.2</td>\n",
              "    </tr>\n",
              "    <tr>\n",
              "      <th>3</th>\n",
              "      <td>10.5</td>\n",
              "      <td>72</td>\n",
              "      <td>16.4</td>\n",
              "    </tr>\n",
              "    <tr>\n",
              "      <th>4</th>\n",
              "      <td>10.7</td>\n",
              "      <td>81</td>\n",
              "      <td>18.8</td>\n",
              "    </tr>\n",
              "  </tbody>\n",
              "</table>\n",
              "</div>\n",
              "      <button class=\"colab-df-convert\" onclick=\"convertToInteractive('df-f3068780-5c1c-46ba-8671-9e4bf0723926')\"\n",
              "              title=\"Convert this dataframe to an interactive table.\"\n",
              "              style=\"display:none;\">\n",
              "        \n",
              "  <svg xmlns=\"http://www.w3.org/2000/svg\" height=\"24px\"viewBox=\"0 0 24 24\"\n",
              "       width=\"24px\">\n",
              "    <path d=\"M0 0h24v24H0V0z\" fill=\"none\"/>\n",
              "    <path d=\"M18.56 5.44l.94 2.06.94-2.06 2.06-.94-2.06-.94-.94-2.06-.94 2.06-2.06.94zm-11 1L8.5 8.5l.94-2.06 2.06-.94-2.06-.94L8.5 2.5l-.94 2.06-2.06.94zm10 10l.94 2.06.94-2.06 2.06-.94-2.06-.94-.94-2.06-.94 2.06-2.06.94z\"/><path d=\"M17.41 7.96l-1.37-1.37c-.4-.4-.92-.59-1.43-.59-.52 0-1.04.2-1.43.59L10.3 9.45l-7.72 7.72c-.78.78-.78 2.05 0 2.83L4 21.41c.39.39.9.59 1.41.59.51 0 1.02-.2 1.41-.59l7.78-7.78 2.81-2.81c.8-.78.8-2.07 0-2.86zM5.41 20L4 18.59l7.72-7.72 1.47 1.35L5.41 20z\"/>\n",
              "  </svg>\n",
              "      </button>\n",
              "      \n",
              "  <style>\n",
              "    .colab-df-container {\n",
              "      display:flex;\n",
              "      flex-wrap:wrap;\n",
              "      gap: 12px;\n",
              "    }\n",
              "\n",
              "    .colab-df-convert {\n",
              "      background-color: #E8F0FE;\n",
              "      border: none;\n",
              "      border-radius: 50%;\n",
              "      cursor: pointer;\n",
              "      display: none;\n",
              "      fill: #1967D2;\n",
              "      height: 32px;\n",
              "      padding: 0 0 0 0;\n",
              "      width: 32px;\n",
              "    }\n",
              "\n",
              "    .colab-df-convert:hover {\n",
              "      background-color: #E2EBFA;\n",
              "      box-shadow: 0px 1px 2px rgba(60, 64, 67, 0.3), 0px 1px 3px 1px rgba(60, 64, 67, 0.15);\n",
              "      fill: #174EA6;\n",
              "    }\n",
              "\n",
              "    [theme=dark] .colab-df-convert {\n",
              "      background-color: #3B4455;\n",
              "      fill: #D2E3FC;\n",
              "    }\n",
              "\n",
              "    [theme=dark] .colab-df-convert:hover {\n",
              "      background-color: #434B5C;\n",
              "      box-shadow: 0px 1px 3px 1px rgba(0, 0, 0, 0.15);\n",
              "      filter: drop-shadow(0px 1px 2px rgba(0, 0, 0, 0.3));\n",
              "      fill: #FFFFFF;\n",
              "    }\n",
              "  </style>\n",
              "\n",
              "      <script>\n",
              "        const buttonEl =\n",
              "          document.querySelector('#df-f3068780-5c1c-46ba-8671-9e4bf0723926 button.colab-df-convert');\n",
              "        buttonEl.style.display =\n",
              "          google.colab.kernel.accessAllowed ? 'block' : 'none';\n",
              "\n",
              "        async function convertToInteractive(key) {\n",
              "          const element = document.querySelector('#df-f3068780-5c1c-46ba-8671-9e4bf0723926');\n",
              "          const dataTable =\n",
              "            await google.colab.kernel.invokeFunction('convertToInteractive',\n",
              "                                                     [key], {});\n",
              "          if (!dataTable) return;\n",
              "\n",
              "          const docLinkHtml = 'Like what you see? Visit the ' +\n",
              "            '<a target=\"_blank\" href=https://colab.research.google.com/notebooks/data_table.ipynb>data table notebook</a>'\n",
              "            + ' to learn more about interactive tables.';\n",
              "          element.innerHTML = '';\n",
              "          dataTable['output_type'] = 'display_data';\n",
              "          await google.colab.output.renderOutput(dataTable, element);\n",
              "          const docLink = document.createElement('div');\n",
              "          docLink.innerHTML = docLinkHtml;\n",
              "          element.appendChild(docLink);\n",
              "        }\n",
              "      </script>\n",
              "    </div>\n",
              "  </div>\n",
              "  "
            ]
          },
          "metadata": {},
          "execution_count": 18
        }
      ]
    },
    {
      "cell_type": "markdown",
      "source": [
        "###Utilizando o Matplotlib"
      ],
      "metadata": {
        "id": "yvYd41CR9Mzc"
      }
    },
    {
      "cell_type": "code",
      "source": [
        "plt.boxplot(base['Volume'], vert= False, showfliers= False, notch= True, patch_artist= True)"
      ],
      "metadata": {
        "colab": {
          "base_uri": "https://localhost:8080/",
          "height": 404
        },
        "id": "4en_cMjb3E6i",
        "outputId": "b9482ce3-7fde-4aa2-e2e4-66e1a0b2327c"
      },
      "execution_count": 19,
      "outputs": [
        {
          "output_type": "execute_result",
          "data": {
            "text/plain": [
              "{'whiskers': [<matplotlib.lines.Line2D at 0x7fa2e6894490>,\n",
              "  <matplotlib.lines.Line2D at 0x7fa2e6894a50>],\n",
              " 'caps': [<matplotlib.lines.Line2D at 0x7fa2e6894f90>,\n",
              "  <matplotlib.lines.Line2D at 0x7fa2e681c510>],\n",
              " 'boxes': [<matplotlib.patches.PathPatch at 0x7fa2e688b9d0>],\n",
              " 'medians': [<matplotlib.lines.Line2D at 0x7fa2e681ca50>],\n",
              " 'fliers': [],\n",
              " 'means': []}"
            ]
          },
          "metadata": {},
          "execution_count": 19
        },
        {
          "output_type": "display_data",
          "data": {
            "text/plain": [
              "<Figure size 432x288 with 1 Axes>"
            ],
            "image/png": "[encoded data removed]"
          },
          "metadata": {
            "needs_background": "light"
          }
        }
      ]
    },
    {
      "cell_type": "code",
      "source": [
        "plt.boxplot(base)"
      ],
      "metadata": {
        "colab": {
          "base_uri": "https://localhost:8080/",
          "height": 1000
        },
        "id": "QiGkwV8z4SgE",
        "outputId": "0f455457-2dea-4ca0-b6c1-93d4177bb346"
      },
      "execution_count": 20,
      "outputs": [
        {
          "output_type": "execute_result",
          "data": {
            "text/plain": [
              "{'whiskers': [<matplotlib.lines.Line2D at 0x7fa2e6807790>,\n",
              "  <matplotlib.lines.Line2D at 0x7fa2e6807cd0>,\n",
              "  <matplotlib.lines.Line2D at 0x7fa2e6814d10>,\n",
              "  <matplotlib.lines.Line2D at 0x7fa2e679e250>,\n",
              "  <matplotlib.lines.Line2D at 0x7fa2e67ae250>,\n",
              "  <matplotlib.lines.Line2D at 0x7fa2e67ae7d0>,\n",
              "  <matplotlib.lines.Line2D at 0x7fa2e67bf810>,\n",
              "  <matplotlib.lines.Line2D at 0x7fa2e67bfd50>,\n",
              "  <matplotlib.lines.Line2D at 0x7fa2e67d2dd0>,\n",
              "  <matplotlib.lines.Line2D at 0x7fa2e67d9310>,\n",
              "  <matplotlib.lines.Line2D at 0x7fa2e676a350>,\n",
              "  <matplotlib.lines.Line2D at 0x7fa2e676a890>,\n",
              "  <matplotlib.lines.Line2D at 0x7fa2e677d890>,\n",
              "  <matplotlib.lines.Line2D at 0x7fa2e677ddd0>,\n",
              "  <matplotlib.lines.Line2D at 0x7fa2e678ddd0>,\n",
              "  <matplotlib.lines.Line2D at 0x7fa2e6795350>,\n",
              "  <matplotlib.lines.Line2D at 0x7fa2e67282d0>,\n",
              "  <matplotlib.lines.Line2D at 0x7fa2e6728810>,\n",
              "  <matplotlib.lines.Line2D at 0x7fa2e6737790>,\n",
              "  <matplotlib.lines.Line2D at 0x7fa2e6737cd0>,\n",
              "  <matplotlib.lines.Line2D at 0x7fa2e6748cd0>,\n",
              "  <matplotlib.lines.Line2D at 0x7fa2e6753250>,\n",
              "  <matplotlib.lines.Line2D at 0x7fa2e66e5250>,\n",
              "  <matplotlib.lines.Line2D at 0x7fa2e66e5790>,\n",
              "  <matplotlib.lines.Line2D at 0x7fa2e66f4790>,\n",
              "  <matplotlib.lines.Line2D at 0x7fa2e66f4cd0>,\n",
              "  <matplotlib.lines.Line2D at 0x7fa2e6706cd0>,\n",
              "  <matplotlib.lines.Line2D at 0x7fa2e670d250>,\n",
              "  <matplotlib.lines.Line2D at 0x7fa2e99bba50>,\n",
              "  <matplotlib.lines.Line2D at 0x7fa2e9a59750>,\n",
              "  <matplotlib.lines.Line2D at 0x7fa2e6ca75d0>,\n",
              "  <matplotlib.lines.Line2D at 0x7fa2e6ca7150>,\n",
              "  <matplotlib.lines.Line2D at 0x7fa2e6c366d0>,\n",
              "  <matplotlib.lines.Line2D at 0x7fa2e6c00410>,\n",
              "  <matplotlib.lines.Line2D at 0x7fa2e6cada50>,\n",
              "  <matplotlib.lines.Line2D at 0x7fa2e6cadc90>,\n",
              "  <matplotlib.lines.Line2D at 0x7fa2e6b3f810>,\n",
              "  <matplotlib.lines.Line2D at 0x7fa2e6b47110>,\n",
              "  <matplotlib.lines.Line2D at 0x7fa2e6ad0890>,\n",
              "  <matplotlib.lines.Line2D at 0x7fa2e6abe8d0>,\n",
              "  <matplotlib.lines.Line2D at 0x7fa2e6ac9710>,\n",
              "  <matplotlib.lines.Line2D at 0x7fa2e6bb7850>,\n",
              "  <matplotlib.lines.Line2D at 0x7fa2e6a47190>,\n",
              "  <matplotlib.lines.Line2D at 0x7fa2e6a47050>,\n",
              "  <matplotlib.lines.Line2D at 0x7fa2e69c6c50>,\n",
              "  <matplotlib.lines.Line2D at 0x7fa2e69c0710>,\n",
              "  <matplotlib.lines.Line2D at 0x7fa2e6aa9190>,\n",
              "  <matplotlib.lines.Line2D at 0x7fa2e6a69a10>,\n",
              "  <matplotlib.lines.Line2D at 0x7fa2e6950c10>,\n",
              "  <matplotlib.lines.Line2D at 0x7fa2e69d9590>,\n",
              "  <matplotlib.lines.Line2D at 0x7fa2e686b150>,\n",
              "  <matplotlib.lines.Line2D at 0x7fa2e686b190>,\n",
              "  <matplotlib.lines.Line2D at 0x7fa2e68b4ed0>,\n",
              "  <matplotlib.lines.Line2D at 0x7fa2e6838850>,\n",
              "  <matplotlib.lines.Line2D at 0x7fa2e675af10>,\n",
              "  <matplotlib.lines.Line2D at 0x7fa2e67e0650>,\n",
              "  <matplotlib.lines.Line2D at 0x7fa2e6600550>,\n",
              "  <matplotlib.lines.Line2D at 0x7fa2e6600a90>,\n",
              "  <matplotlib.lines.Line2D at 0x7fa2e6611a90>,\n",
              "  <matplotlib.lines.Line2D at 0x7fa2e6611fd0>,\n",
              "  <matplotlib.lines.Line2D at 0x7fa2e65a1fd0>,\n",
              "  <matplotlib.lines.Line2D at 0x7fa2e65aa550>],\n",
              " 'caps': [<matplotlib.lines.Line2D at 0x7fa2e680c250>,\n",
              "  <matplotlib.lines.Line2D at 0x7fa2e680c790>,\n",
              "  <matplotlib.lines.Line2D at 0x7fa2e679e790>,\n",
              "  <matplotlib.lines.Line2D at 0x7fa2e679ecd0>,\n",
              "  <matplotlib.lines.Line2D at 0x7fa2e67aed10>,\n",
              "  <matplotlib.lines.Line2D at 0x7fa2e67b62d0>,\n",
              "  <matplotlib.lines.Line2D at 0x7fa2e67c72d0>,\n",
              "  <matplotlib.lines.Line2D at 0x7fa2e67c7810>,\n",
              "  <matplotlib.lines.Line2D at 0x7fa2e67d9850>,\n",
              "  <matplotlib.lines.Line2D at 0x7fa2e67d9d50>,\n",
              "  <matplotlib.lines.Line2D at 0x7fa2e676add0>,\n",
              "  <matplotlib.lines.Line2D at 0x7fa2e6774350>,\n",
              "  <matplotlib.lines.Line2D at 0x7fa2e6786350>,\n",
              "  <matplotlib.lines.Line2D at 0x7fa2e6786890>,\n",
              "  <matplotlib.lines.Line2D at 0x7fa2e6795890>,\n",
              "  <matplotlib.lines.Line2D at 0x7fa2e6795dd0>,\n",
              "  <matplotlib.lines.Line2D at 0x7fa2e6728d50>,\n",
              "  <matplotlib.lines.Line2D at 0x7fa2e672f2d0>,\n",
              "  <matplotlib.lines.Line2D at 0x7fa2e673f250>,\n",
              "  <matplotlib.lines.Line2D at 0x7fa2e673f790>,\n",
              "  <matplotlib.lines.Line2D at 0x7fa2e6753790>,\n",
              "  <matplotlib.lines.Line2D at 0x7fa2e6753cd0>,\n",
              "  <matplotlib.lines.Line2D at 0x7fa2e66e5cd0>,\n",
              "  <matplotlib.lines.Line2D at 0x7fa2e66eb250>,\n",
              "  <matplotlib.lines.Line2D at 0x7fa2e66fd250>,\n",
              "  <matplotlib.lines.Line2D at 0x7fa2e66fd790>,\n",
              "  <matplotlib.lines.Line2D at 0x7fa2e670d790>,\n",
              "  <matplotlib.lines.Line2D at 0x7fa2e670dcd0>,\n",
              "  <matplotlib.lines.Line2D at 0x7fa2e9a1e490>,\n",
              "  <matplotlib.lines.Line2D at 0x7fa2e99b2fd0>,\n",
              "  <matplotlib.lines.Line2D at 0x7fa2e6ccb0d0>,\n",
              "  <matplotlib.lines.Line2D at 0x7fa2e6c67b10>,\n",
              "  <matplotlib.lines.Line2D at 0x7fa2e6cb9110>,\n",
              "  <matplotlib.lines.Line2D at 0x7fa2e6c25310>,\n",
              "  <matplotlib.lines.Line2D at 0x7fa2e6bfaa90>,\n",
              "  <matplotlib.lines.Line2D at 0x7fa2e6b72450>,\n",
              "  <matplotlib.lines.Line2D at 0x7fa2e6b1da90>,\n",
              "  <matplotlib.lines.Line2D at 0x7fa2e6b755d0>,\n",
              "  <matplotlib.lines.Line2D at 0x7fa2e6abef50>,\n",
              "  <matplotlib.lines.Line2D at 0x7fa2e6bf2c10>,\n",
              "  <matplotlib.lines.Line2D at 0x7fa2e6b12c90>,\n",
              "  <matplotlib.lines.Line2D at 0x7fa2e9546f10>,\n",
              "  <matplotlib.lines.Line2D at 0x7fa2e69e3290>,\n",
              "  <matplotlib.lines.Line2D at 0x7fa2e69b6d50>,\n",
              "  <matplotlib.lines.Line2D at 0x7fa2e69c0d90>,\n",
              "  <matplotlib.lines.Line2D at 0x7fa2e69aef90>,\n",
              "  <matplotlib.lines.Line2D at 0x7fa2e6a28cd0>,\n",
              "  <matplotlib.lines.Line2D at 0x7fa2e69d0510>,\n",
              "  <matplotlib.lines.Line2D at 0x7fa2e68a16d0>,\n",
              "  <matplotlib.lines.Line2D at 0x7fa2e68a1050>,\n",
              "  <matplotlib.lines.Line2D at 0x7fa2e6941dd0>,\n",
              "  <matplotlib.lines.Line2D at 0x7fa2e692c9d0>,\n",
              "  <matplotlib.lines.Line2D at 0x7fa2e6846190>,\n",
              "  <matplotlib.lines.Line2D at 0x7fa2e684e650>,\n",
              "  <matplotlib.lines.Line2D at 0x7fa2e99fbc90>,\n",
              "  <matplotlib.lines.Line2D at 0x7fa2e6716ad0>,\n",
              "  <matplotlib.lines.Line2D at 0x7fa2e6600fd0>,\n",
              "  <matplotlib.lines.Line2D at 0x7fa2e6607550>,\n",
              "  <matplotlib.lines.Line2D at 0x7fa2e6619550>,\n",
              "  <matplotlib.lines.Line2D at 0x7fa2e6619a90>,\n",
              "  <matplotlib.lines.Line2D at 0x7fa2e65aaa90>,\n",
              "  <matplotlib.lines.Line2D at 0x7fa2e65aafd0>],\n",
              " 'boxes': [<matplotlib.lines.Line2D at 0x7fa2e67f57d0>,\n",
              "  <matplotlib.lines.Line2D at 0x7fa2e6814790>,\n",
              "  <matplotlib.lines.Line2D at 0x7fa2e67a5c90>,\n",
              "  <matplotlib.lines.Line2D at 0x7fa2e67bf290>,\n",
              "  <matplotlib.lines.Line2D at 0x7fa2e67d2810>,\n",
              "  <matplotlib.lines.Line2D at 0x7fa2e6762d90>,\n",
              "  <matplotlib.lines.Line2D at 0x7fa2e677d310>,\n",
              "  <matplotlib.lines.Line2D at 0x7fa2e678d850>,\n",
              "  <matplotlib.lines.Line2D at 0x7fa2e671dd50>,\n",
              "  <matplotlib.lines.Line2D at 0x7fa2e6737210>,\n",
              "  <matplotlib.lines.Line2D at 0x7fa2e6748750>,\n",
              "  <matplotlib.lines.Line2D at 0x7fa2e675ac90>,\n",
              "  <matplotlib.lines.Line2D at 0x7fa2e66f4210>,\n",
              "  <matplotlib.lines.Line2D at 0x7fa2e6706750>,\n",
              "  <matplotlib.lines.Line2D at 0x7fa2e6716c90>,\n",
              "  <matplotlib.lines.Line2D at 0x7fa2e99a9ed0>,\n",
              "  <matplotlib.lines.Line2D at 0x7fa2e6c9d850>,\n",
              "  <matplotlib.lines.Line2D at 0x7fa2e6bac250>,\n",
              "  <matplotlib.lines.Line2D at 0x7fa2e6b3fc90>,\n",
              "  <matplotlib.lines.Line2D at 0x7fa2e6b4d9d0>,\n",
              "  <matplotlib.lines.Line2D at 0x7fa2e6ac9e50>,\n",
              "  <matplotlib.lines.Line2D at 0x7fa2e69de250>,\n",
              "  <matplotlib.lines.Line2D at 0x7fa2e699e310>,\n",
              "  <matplotlib.lines.Line2D at 0x7fa2e69379d0>,\n",
              "  <matplotlib.lines.Line2D at 0x7fa2e69c8dd0>,\n",
              "  <matplotlib.lines.Line2D at 0x7fa2e68c1b50>,\n",
              "  <matplotlib.lines.Line2D at 0x7fa2e688bc50>,\n",
              "  <matplotlib.lines.Line2D at 0x7fa2e671d5d0>,\n",
              "  <matplotlib.lines.Line2D at 0x7fa2e65f7f90>,\n",
              "  <matplotlib.lines.Line2D at 0x7fa2e6611510>,\n",
              "  <matplotlib.lines.Line2D at 0x7fa2e65a1a50>],\n",
              " 'medians': [<matplotlib.lines.Line2D at 0x7fa2e680cd10>,\n",
              "  <matplotlib.lines.Line2D at 0x7fa2e67a5250>,\n",
              "  <matplotlib.lines.Line2D at 0x7fa2e67b6810>,\n",
              "  <matplotlib.lines.Line2D at 0x7fa2e67c7d50>,\n",
              "  <matplotlib.lines.Line2D at 0x7fa2e67622d0>,\n",
              "  <matplotlib.lines.Line2D at 0x7fa2e6774890>,\n",
              "  <matplotlib.lines.Line2D at 0x7fa2e6786dd0>,\n",
              "  <matplotlib.lines.Line2D at 0x7fa2e671d350>,\n",
              "  <matplotlib.lines.Line2D at 0x7fa2e672f810>,\n",
              "  <matplotlib.lines.Line2D at 0x7fa2e673fcd0>,\n",
              "  <matplotlib.lines.Line2D at 0x7fa2e675a250>,\n",
              "  <matplotlib.lines.Line2D at 0x7fa2e66eb790>,\n",
              "  <matplotlib.lines.Line2D at 0x7fa2e66fdcd0>,\n",
              "  <matplotlib.lines.Line2D at 0x7fa2e6716250>,\n",
              "  <matplotlib.lines.Line2D at 0x7fa2e953ff10>,\n",
              "  <matplotlib.lines.Line2D at 0x7fa2e950fc50>,\n",
              "  <matplotlib.lines.Line2D at 0x7fa2e6c25dd0>,\n",
              "  <matplotlib.lines.Line2D at 0x7fa2e6c82890>,\n",
              "  <matplotlib.lines.Line2D at 0x7fa2e6b08990>,\n",
              "  <matplotlib.lines.Line2D at 0x7fa2e6b55590>,\n",
              "  <matplotlib.lines.Line2D at 0x7fa2e6b32ad0>,\n",
              "  <matplotlib.lines.Line2D at 0x7fa2e6a3db90>,\n",
              "  <matplotlib.lines.Line2D at 0x7fa2e691e210>,\n",
              "  <matplotlib.lines.Line2D at 0x7fa2e6957210>,\n",
              "  <matplotlib.lines.Line2D at 0x7fa2e68cb6d0>,\n",
              "  <matplotlib.lines.Line2D at 0x7fa2e6831650>,\n",
              "  <matplotlib.lines.Line2D at 0x7fa2e67a5f10>,\n",
              "  <matplotlib.lines.Line2D at 0x7fa2e65f7550>,\n",
              "  <matplotlib.lines.Line2D at 0x7fa2e6607a90>,\n",
              "  <matplotlib.lines.Line2D at 0x7fa2e6619fd0>,\n",
              "  <matplotlib.lines.Line2D at 0x7fa2e65b4550>],\n",
              " 'fliers': [<matplotlib.lines.Line2D at 0x7fa2e6814290>,\n",
              "  <matplotlib.lines.Line2D at 0x7fa2e67a5790>,\n",
              "  <matplotlib.lines.Line2D at 0x7fa2e67b6d50>,\n",
              "  <matplotlib.lines.Line2D at 0x7fa2e67d22d0>,\n",
              "  <matplotlib.lines.Line2D at 0x7fa2e6762850>,\n",
              "  <matplotlib.lines.Line2D at 0x7fa2e6774dd0>,\n",
              "  <matplotlib.lines.Line2D at 0x7fa2e678d350>,\n",
              "  <matplotlib.lines.Line2D at 0x7fa2e671d890>,\n",
              "  <matplotlib.lines.Line2D at 0x7fa2e672fd10>,\n",
              "  <matplotlib.lines.Line2D at 0x7fa2e6748250>,\n",
              "  <matplotlib.lines.Line2D at 0x7fa2e675a790>,\n",
              "  <matplotlib.lines.Line2D at 0x7fa2e66ebcd0>,\n",
              "  <matplotlib.lines.Line2D at 0x7fa2e6706250>,\n",
              "  <matplotlib.lines.Line2D at 0x7fa2e6716790>,\n",
              "  <matplotlib.lines.Line2D at 0x7fa2e99c3bd0>,\n",
              "  <matplotlib.lines.Line2D at 0x7fa2e95357d0>,\n",
              "  <matplotlib.lines.Line2D at 0x7fa2e6bacc50>,\n",
              "  <matplotlib.lines.Line2D at 0x7fa2e6b8a190>,\n",
              "  <matplotlib.lines.Line2D at 0x7fa2e6bb1b90>,\n",
              "  <matplotlib.lines.Line2D at 0x7fa2e6acce10>,\n",
              "  <matplotlib.lines.Line2D at 0x7fa2e6a4d350>,\n",
              "  <matplotlib.lines.Line2D at 0x7fa2e6a3dd90>,\n",
              "  <matplotlib.lines.Line2D at 0x7fa2e6a57e50>,\n",
              "  <matplotlib.lines.Line2D at 0x7fa2e6957d50>,\n",
              "  <matplotlib.lines.Line2D at 0x7fa2e68a9090>,\n",
              "  <matplotlib.lines.Line2D at 0x7fa2e6841850>,\n",
              "  <matplotlib.lines.Line2D at 0x7fa2e676a5d0>,\n",
              "  <matplotlib.lines.Line2D at 0x7fa2e65f7a90>,\n",
              "  <matplotlib.lines.Line2D at 0x7fa2e6607fd0>,\n",
              "  <matplotlib.lines.Line2D at 0x7fa2e65a1550>,\n",
              "  <matplotlib.lines.Line2D at 0x7fa2e65b4a90>],\n",
              " 'means': []}"
            ]
          },
          "metadata": {},
          "execution_count": 20
        },
        {
          "output_type": "display_data",
          "data": {
            "text/plain": [
              "<Figure size 432x288 with 1 Axes>"
            ],
            "image/png": "[encoded data removed]"
          },
          "metadata": {
            "needs_background": "light"
          }
        }
      ]
    },
    {
      "cell_type": "code",
      "source": [
        "plt.boxplot(base['Volume'], vert= False)\n",
        "plt.boxplot(base['Girth'], vert= False)\n",
        "plt.boxplot(base['Height'], vert= False)\n",
        "plt.title('Arvores')\n",
        "plt.xlabel('Dadpos')"
      ],
      "metadata": {
        "colab": {
          "base_uri": "https://localhost:8080/",
          "height": 312
        },
        "id": "SmGUWmfU4t1b",
        "outputId": "2e8ef0ff-6b0c-414b-9fad-2bcab9fdf8d3"
      },
      "execution_count": 21,
      "outputs": [
        {
          "output_type": "execute_result",
          "data": {
            "text/plain": [
              "Text(0.5, 0, 'Dadpos')"
            ]
          },
          "metadata": {},
          "execution_count": 21
        },
        {
          "output_type": "display_data",
          "data": {
            "text/plain": [
              "<Figure size 432x288 with 1 Axes>"
            ],
            "image/png": "[encoded data removed]"
          },
          "metadata": {
            "needs_background": "light"
          }
        }
      ]
    },
    {
      "cell_type": "markdown",
      "source": [
        "###Utilizando o Seaborn"
      ],
      "metadata": {
        "id": "C7fP0TVb9WR0"
      }
    },
    {
      "cell_type": "code",
      "source": [
        "sea.boxplot(base['Volume']).set_title('Arvores')"
      ],
      "metadata": {
        "colab": {
          "base_uri": "https://localhost:8080/",
          "height": 367
        },
        "id": "FmgJYeor9c6L",
        "outputId": "dd1d6f50-865f-4a6b-9ac1-33cc679a6639"
      },
      "execution_count": 36,
      "outputs": [
        {
          "output_type": "stream",
          "name": "stderr",
          "text": [
            "/usr/local/lib/python3.7/dist-packages/seaborn/_decorators.py:43: FutureWarning: Pass the following variable as a keyword arg: x. From version 0.12, the only valid positional argument will be `data`, and passing other arguments without an explicit keyword will result in an error or misinterpretation.\n",
            "  FutureWarning\n"
          ]
        },
        {
          "output_type": "execute_result",
          "data": {
            "text/plain": [
              "Text(0.5, 1.0, 'Arvores')"
            ]
          },
          "metadata": {},
          "execution_count": 36
        },
        {
          "output_type": "display_data",
          "data": {
            "text/plain": [
              "<Figure size 432x288 with 1 Axes>"
            ],
            "image/png": "[encoded data removed]"
          },
          "metadata": {
            "needs_background": "light"
          }
        }
      ]
    },
    {
      "cell_type": "markdown",
      "source": [
        "#Gráfico de Barras e Setores"
      ],
      "metadata": {
        "id": "iId9FTLk2uEf"
      }
    },
    {
      "cell_type": "code",
      "source": [
        "base3 = pd.read_csv('/content/drive/MyDrive/todos os arquivos/13.Prática em Python/dados/insect.csv')\n",
        "base3.head()"
      ],
      "metadata": {
        "colab": {
          "base_uri": "https://localhost:8080/",
          "height": 206
        },
        "id": "9a1S3_O42xp2",
        "outputId": "93c725d2-5664-4c28-baca-dc9bc80cb437"
      },
      "execution_count": 23,
      "outputs": [
        {
          "output_type": "execute_result",
          "data": {
            "text/plain": [
              "   count spray\n",
              "0     10     A\n",
              "1      7     A\n",
              "2     20     A\n",
              "3     14     A\n",
              "4     14     A"
            ],
            "text/html": [
              "\n",
              "  <div id=\"df-ccdd57f9-1f56-43ef-8a1d-e27844415cdc\">\n",
              "    <div class=\"colab-df-container\">\n",
              "      <div>\n",
              "<style scoped>\n",
              "    .dataframe tbody tr th:only-of-type {\n",
              "        vertical-align: middle;\n",
              "    }\n",
              "\n",
              "    .dataframe tbody tr th {\n",
              "        vertical-align: top;\n",
              "    }\n",
              "\n",
              "    .dataframe thead th {\n",
              "        text-align: right;\n",
              "    }\n",
              "</style>\n",
              "<table border=\"1\" class=\"dataframe\">\n",
              "  <thead>\n",
              "    <tr style=\"text-align: right;\">\n",
              "      <th></th>\n",
              "      <th>count</th>\n",
              "      <th>spray</th>\n",
              "    </tr>\n",
              "  </thead>\n",
              "  <tbody>\n",
              "    <tr>\n",
              "      <th>0</th>\n",
              "      <td>10</td>\n",
              "      <td>A</td>\n",
              "    </tr>\n",
              "    <tr>\n",
              "      <th>1</th>\n",
              "      <td>7</td>\n",
              "      <td>A</td>\n",
              "    </tr>\n",
              "    <tr>\n",
              "      <th>2</th>\n",
              "      <td>20</td>\n",
              "      <td>A</td>\n",
              "    </tr>\n",
              "    <tr>\n",
              "      <th>3</th>\n",
              "      <td>14</td>\n",
              "      <td>A</td>\n",
              "    </tr>\n",
              "    <tr>\n",
              "      <th>4</th>\n",
              "      <td>14</td>\n",
              "      <td>A</td>\n",
              "    </tr>\n",
              "  </tbody>\n",
              "</table>\n",
              "</div>\n",
              "      <button class=\"colab-df-convert\" onclick=\"convertToInteractive('df-ccdd57f9-1f56-43ef-8a1d-e27844415cdc')\"\n",
              "              title=\"Convert this dataframe to an interactive table.\"\n",
              "              style=\"display:none;\">\n",
              "        \n",
              "  <svg xmlns=\"http://www.w3.org/2000/svg\" height=\"24px\"viewBox=\"0 0 24 24\"\n",
              "       width=\"24px\">\n",
              "    <path d=\"M0 0h24v24H0V0z\" fill=\"none\"/>\n",
              "    <path d=\"M18.56 5.44l.94 2.06.94-2.06 2.06-.94-2.06-.94-.94-2.06-.94 2.06-2.06.94zm-11 1L8.5 8.5l.94-2.06 2.06-.94-2.06-.94L8.5 2.5l-.94 2.06-2.06.94zm10 10l.94 2.06.94-2.06 2.06-.94-2.06-.94-.94-2.06-.94 2.06-2.06.94z\"/><path d=\"M17.41 7.96l-1.37-1.37c-.4-.4-.92-.59-1.43-.59-.52 0-1.04.2-1.43.59L10.3 9.45l-7.72 7.72c-.78.78-.78 2.05 0 2.83L4 21.41c.39.39.9.59 1.41.59.51 0 1.02-.2 1.41-.59l7.78-7.78 2.81-2.81c.8-.78.8-2.07 0-2.86zM5.41 20L4 18.59l7.72-7.72 1.47 1.35L5.41 20z\"/>\n",
              "  </svg>\n",
              "      </button>\n",
              "      \n",
              "  <style>\n",
              "    .colab-df-container {\n",
              "      display:flex;\n",
              "      flex-wrap:wrap;\n",
              "      gap: 12px;\n",
              "    }\n",
              "\n",
              "    .colab-df-convert {\n",
              "      background-color: #E8F0FE;\n",
              "      border: none;\n",
              "      border-radius: 50%;\n",
              "      cursor: pointer;\n",
              "      display: none;\n",
              "      fill: #1967D2;\n",
              "      height: 32px;\n",
              "      padding: 0 0 0 0;\n",
              "      width: 32px;\n",
              "    }\n",
              "\n",
              "    .colab-df-convert:hover {\n",
              "      background-color: #E2EBFA;\n",
              "      box-shadow: 0px 1px 2px rgba(60, 64, 67, 0.3), 0px 1px 3px 1px rgba(60, 64, 67, 0.15);\n",
              "      fill: #174EA6;\n",
              "    }\n",
              "\n",
              "    [theme=dark] .colab-df-convert {\n",
              "      background-color: #3B4455;\n",
              "      fill: #D2E3FC;\n",
              "    }\n",
              "\n",
              "    [theme=dark] .colab-df-convert:hover {\n",
              "      background-color: #434B5C;\n",
              "      box-shadow: 0px 1px 3px 1px rgba(0, 0, 0, 0.15);\n",
              "      filter: drop-shadow(0px 1px 2px rgba(0, 0, 0, 0.3));\n",
              "      fill: #FFFFFF;\n",
              "    }\n",
              "  </style>\n",
              "\n",
              "      <script>\n",
              "        const buttonEl =\n",
              "          document.querySelector('#df-ccdd57f9-1f56-43ef-8a1d-e27844415cdc button.colab-df-convert');\n",
              "        buttonEl.style.display =\n",
              "          google.colab.kernel.accessAllowed ? 'block' : 'none';\n",
              "\n",
              "        async function convertToInteractive(key) {\n",
              "          const element = document.querySelector('#df-ccdd57f9-1f56-43ef-8a1d-e27844415cdc');\n",
              "          const dataTable =\n",
              "            await google.colab.kernel.invokeFunction('convertToInteractive',\n",
              "                                                     [key], {});\n",
              "          if (!dataTable) return;\n",
              "\n",
              "          const docLinkHtml = 'Like what you see? Visit the ' +\n",
              "            '<a target=\"_blank\" href=https://colab.research.google.com/notebooks/data_table.ipynb>data table notebook</a>'\n",
              "            + ' to learn more about interactive tables.';\n",
              "          element.innerHTML = '';\n",
              "          dataTable['output_type'] = 'display_data';\n",
              "          await google.colab.output.renderOutput(dataTable, element);\n",
              "          const docLink = document.createElement('div');\n",
              "          docLink.innerHTML = docLinkHtml;\n",
              "          element.appendChild(docLink);\n",
              "        }\n",
              "      </script>\n",
              "    </div>\n",
              "  </div>\n",
              "  "
            ]
          },
          "metadata": {},
          "execution_count": 23
        }
      ]
    },
    {
      "cell_type": "code",
      "source": [
        "agrupado = base3.groupby('spray')['count'].sum()\n",
        "agrupado"
      ],
      "metadata": {
        "colab": {
          "base_uri": "https://localhost:8080/"
        },
        "id": "9628Tvdm4U2w",
        "outputId": "33ee65fc-3d78-406a-e248-986f9a28041d"
      },
      "execution_count": 28,
      "outputs": [
        {
          "output_type": "execute_result",
          "data": {
            "text/plain": [
              "spray\n",
              "A    174\n",
              "B    184\n",
              "C     25\n",
              "D     59\n",
              "E     42\n",
              "F    200\n",
              "Name: count, dtype: int64"
            ]
          },
          "metadata": {},
          "execution_count": 28
        }
      ]
    },
    {
      "cell_type": "code",
      "source": [
        "agrupado.plot.bar(color= ['blue', 'gray', 'green', 'orange', 'yellow', 'purple'])"
      ],
      "metadata": {
        "colab": {
          "base_uri": "https://localhost:8080/",
          "height": 294
        },
        "id": "U-tlfSjx69zl",
        "outputId": "7832cfc2-279a-447c-8aa2-0c482628a635"
      },
      "execution_count": 33,
      "outputs": [
        {
          "output_type": "execute_result",
          "data": {
            "text/plain": [
              "<matplotlib.axes._subplots.AxesSubplot at 0x7fa2e35df8d0>"
            ]
          },
          "metadata": {},
          "execution_count": 33
        },
        {
          "output_type": "display_data",
          "data": {
            "text/plain": [
              "<Figure size 432x288 with 1 Axes>"
            ],
            "image/png": "[encoded data removed]"
          },
          "metadata": {
            "needs_background": "light"
          }
        }
      ]
    },
    {
      "cell_type": "code",
      "source": [
        "agrupado.plot.pie()"
      ],
      "metadata": {
        "colab": {
          "base_uri": "https://localhost:8080/",
          "height": 265
        },
        "id": "yAUlDlwb7PSE",
        "outputId": "8ae71107-a684-4d8c-dd6c-2693df5b9261"
      },
      "execution_count": 34,
      "outputs": [
        {
          "output_type": "execute_result",
          "data": {
            "text/plain": [
              "<matplotlib.axes._subplots.AxesSubplot at 0x7fa2e35d4090>"
            ]
          },
          "metadata": {},
          "execution_count": 34
        },
        {
          "output_type": "display_data",
          "data": {
            "text/plain": [
              "<Figure size 432x288 with 1 Axes>"
            ],
            "image/png": "[encoded data removed]"
          },
          "metadata": {}
        }
      ]
    },
    {
      "cell_type": "code",
      "source": [
        "agrupado.plot.pie(legend=True)"
      ],
      "metadata": {
        "colab": {
          "base_uri": "https://localhost:8080/",
          "height": 265
        },
        "id": "_p3tzRDV7Czw",
        "outputId": "b3c6d1d1-847f-40ed-f885-b137e1421828"
      },
      "execution_count": 35,
      "outputs": [
        {
          "output_type": "execute_result",
          "data": {
            "text/plain": [
              "<matplotlib.axes._subplots.AxesSubplot at 0x7fa2e34a31d0>"
            ]
          },
          "metadata": {},
          "execution_count": 35
        },
        {
          "output_type": "display_data",
          "data": {
            "text/plain": [
              "<Figure size 432x288 with 1 Axes>"
            ],
            "image/png": "[encoded data removed]"
          },
          "metadata": {}
        }
      ]
    },
    {
      "cell_type": "markdown",
      "source": [
        "#Gráficos 3d"
      ],
      "metadata": {
        "id": "Nb9eD8G6-Xo2"
      }
    },
    {
      "cell_type": "code",
      "source": [],
      "metadata": {
        "id": "RRQzwb9i-aWM"
      },
      "execution_count": null,
      "outputs": []
    }
  ],
  "metadata": {
    "jupytext": {
      "cell_metadata_filter": "-all",
      "main_language": "python",
      "notebook_metadata_filter": "-all"
    },
    "kernelspec": {
      "display_name": "Python 3",
      "language": "python",
      "name": "python3"
    },
    "language_info": {
      "codemirror_mode": {
        "name": "ipython",
        "version": 3
      },
      "file_extension": ".py",
      "mimetype": "text/x-python",
      "name": "python",
      "nbconvert_exporter": "python",
      "pygments_lexer": "ipython3",
      "version": "3.7.6"
    },
    "colab": {
      "provenance": [],
      "include_colab_link": true
    }
  },
  "nbformat": 4,
  "nbformat_minor": 0
}