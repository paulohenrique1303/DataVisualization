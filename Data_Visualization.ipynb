{
  "cells": [
    {
      "cell_type": "markdown",
      "metadata": {
        "id": "view-in-github",
        "colab_type": "text"
      },
      "source": [
        "<a href=\"https://colab.research.google.com/github/paulohenrique1303/DataVisualization/blob/main/Data_Visualization.ipynb\" target=\"_parent\"><img src=\"https://colab.research.google.com/assets/colab-badge.svg\" alt=\"Open In Colab\"/></a>"
      ]
    },
    {
      "cell_type": "markdown",
      "source": [
        "#Imports de bibliotecas"
      ],
      "metadata": {
        "id": "kZOBz5zYJQpN"
      }
    },
    {
      "cell_type": "code",
      "source": [
        "import pandas as pd\n",
        "import numpy as np\n",
        "import matplotlib.pyplot as plt\n",
        "import seaborn as sea\n",
        "from mpl_toolkits.mplot3d import axes3d\n",
        "\n",
        "from google.colab import drive\n",
        "drive.mount('/content/drive')"
      ],
      "metadata": {
        "colab": {
          "base_uri": "https://localhost:8080/"
        },
        "id": "hyFzXy8iIznP",
        "outputId": "91224e5d-d654-4498-f99b-8b631e940934"
      },
      "execution_count": 33,
      "outputs": [
        {
          "output_type": "stream",
          "name": "stdout",
          "text": [
            "Drive already mounted at /content/drive; to attempt to forcibly remount, call drive.mount(\"/content/drive\", force_remount=True).\n"
          ]
        }
      ]
    },
    {
      "cell_type": "markdown",
      "metadata": {
        "id": "wFi1A-FrgKal"
      },
      "source": [
        "# Graficos de Histograma"
      ]
    },
    {
      "cell_type": "code",
      "execution_count": 3,
      "metadata": {
        "id": "kxCuVWC-gKar",
        "colab": {
          "base_uri": "https://localhost:8080/"
        },
        "outputId": "27052b09-b127-4000-91e1-8780e9afcf9e"
      },
      "outputs": [
        {
          "output_type": "execute_result",
          "data": {
            "text/plain": [
              "(31, 3)"
            ]
          },
          "metadata": {},
          "execution_count": 3
        }
      ],
      "source": [
        "base = pd.read_csv('/content/drive/MyDrive/todos os arquivos/13.Prática em Python/dados/trees.csv')\n",
        "base.shape"
      ]
    },
    {
      "cell_type": "code",
      "execution_count": 4,
      "metadata": {
        "id": "23kGpvbDgKar",
        "colab": {
          "base_uri": "https://localhost:8080/",
          "height": 206
        },
        "outputId": "0b54e2e0-938e-4f07-a586-7d070bf96715"
      },
      "outputs": [
        {
          "output_type": "execute_result",
          "data": {
            "text/plain": [
              "   Girth  Height  Volume\n",
              "0    8.3      70    10.3\n",
              "1    8.6      65    10.3\n",
              "2    8.8      63    10.2\n",
              "3   10.5      72    16.4\n",
              "4   10.7      81    18.8"
            ],
            "text/html": [
              "\n",
              "  <div id=\"df-81457ff1-d0a5-4991-83a0-6170575bde34\">\n",
              "    <div class=\"colab-df-container\">\n",
              "      <div>\n",
              "<style scoped>\n",
              "    .dataframe tbody tr th:only-of-type {\n",
              "        vertical-align: middle;\n",
              "    }\n",
              "\n",
              "    .dataframe tbody tr th {\n",
              "        vertical-align: top;\n",
              "    }\n",
              "\n",
              "    .dataframe thead th {\n",
              "        text-align: right;\n",
              "    }\n",
              "</style>\n",
              "<table border=\"1\" class=\"dataframe\">\n",
              "  <thead>\n",
              "    <tr style=\"text-align: right;\">\n",
              "      <th></th>\n",
              "      <th>Girth</th>\n",
              "      <th>Height</th>\n",
              "      <th>Volume</th>\n",
              "    </tr>\n",
              "  </thead>\n",
              "  <tbody>\n",
              "    <tr>\n",
              "      <th>0</th>\n",
              "      <td>8.3</td>\n",
              "      <td>70</td>\n",
              "      <td>10.3</td>\n",
              "    </tr>\n",
              "    <tr>\n",
              "      <th>1</th>\n",
              "      <td>8.6</td>\n",
              "      <td>65</td>\n",
              "      <td>10.3</td>\n",
              "    </tr>\n",
              "    <tr>\n",
              "      <th>2</th>\n",
              "      <td>8.8</td>\n",
              "      <td>63</td>\n",
              "      <td>10.2</td>\n",
              "    </tr>\n",
              "    <tr>\n",
              "      <th>3</th>\n",
              "      <td>10.5</td>\n",
              "      <td>72</td>\n",
              "      <td>16.4</td>\n",
              "    </tr>\n",
              "    <tr>\n",
              "      <th>4</th>\n",
              "      <td>10.7</td>\n",
              "      <td>81</td>\n",
              "      <td>18.8</td>\n",
              "    </tr>\n",
              "  </tbody>\n",
              "</table>\n",
              "</div>\n",
              "      <button class=\"colab-df-convert\" onclick=\"convertToInteractive('df-81457ff1-d0a5-4991-83a0-6170575bde34')\"\n",
              "              title=\"Convert this dataframe to an interactive table.\"\n",
              "              style=\"display:none;\">\n",
              "        \n",
              "  <svg xmlns=\"http://www.w3.org/2000/svg\" height=\"24px\"viewBox=\"0 0 24 24\"\n",
              "       width=\"24px\">\n",
              "    <path d=\"M0 0h24v24H0V0z\" fill=\"none\"/>\n",
              "    <path d=\"M18.56 5.44l.94 2.06.94-2.06 2.06-.94-2.06-.94-.94-2.06-.94 2.06-2.06.94zm-11 1L8.5 8.5l.94-2.06 2.06-.94-2.06-.94L8.5 2.5l-.94 2.06-2.06.94zm10 10l.94 2.06.94-2.06 2.06-.94-2.06-.94-.94-2.06-.94 2.06-2.06.94z\"/><path d=\"M17.41 7.96l-1.37-1.37c-.4-.4-.92-.59-1.43-.59-.52 0-1.04.2-1.43.59L10.3 9.45l-7.72 7.72c-.78.78-.78 2.05 0 2.83L4 21.41c.39.39.9.59 1.41.59.51 0 1.02-.2 1.41-.59l7.78-7.78 2.81-2.81c.8-.78.8-2.07 0-2.86zM5.41 20L4 18.59l7.72-7.72 1.47 1.35L5.41 20z\"/>\n",
              "  </svg>\n",
              "      </button>\n",
              "      \n",
              "  <style>\n",
              "    .colab-df-container {\n",
              "      display:flex;\n",
              "      flex-wrap:wrap;\n",
              "      gap: 12px;\n",
              "    }\n",
              "\n",
              "    .colab-df-convert {\n",
              "      background-color: #E8F0FE;\n",
              "      border: none;\n",
              "      border-radius: 50%;\n",
              "      cursor: pointer;\n",
              "      display: none;\n",
              "      fill: #1967D2;\n",
              "      height: 32px;\n",
              "      padding: 0 0 0 0;\n",
              "      width: 32px;\n",
              "    }\n",
              "\n",
              "    .colab-df-convert:hover {\n",
              "      background-color: #E2EBFA;\n",
              "      box-shadow: 0px 1px 2px rgba(60, 64, 67, 0.3), 0px 1px 3px 1px rgba(60, 64, 67, 0.15);\n",
              "      fill: #174EA6;\n",
              "    }\n",
              "\n",
              "    [theme=dark] .colab-df-convert {\n",
              "      background-color: #3B4455;\n",
              "      fill: #D2E3FC;\n",
              "    }\n",
              "\n",
              "    [theme=dark] .colab-df-convert:hover {\n",
              "      background-color: #434B5C;\n",
              "      box-shadow: 0px 1px 3px 1px rgba(0, 0, 0, 0.15);\n",
              "      filter: drop-shadow(0px 1px 2px rgba(0, 0, 0, 0.3));\n",
              "      fill: #FFFFFF;\n",
              "    }\n",
              "  </style>\n",
              "\n",
              "      <script>\n",
              "        const buttonEl =\n",
              "          document.querySelector('#df-81457ff1-d0a5-4991-83a0-6170575bde34 button.colab-df-convert');\n",
              "        buttonEl.style.display =\n",
              "          google.colab.kernel.accessAllowed ? 'block' : 'none';\n",
              "\n",
              "        async function convertToInteractive(key) {\n",
              "          const element = document.querySelector('#df-81457ff1-d0a5-4991-83a0-6170575bde34');\n",
              "          const dataTable =\n",
              "            await google.colab.kernel.invokeFunction('convertToInteractive',\n",
              "                                                     [key], {});\n",
              "          if (!dataTable) return;\n",
              "\n",
              "          const docLinkHtml = 'Like what you see? Visit the ' +\n",
              "            '<a target=\"_blank\" href=https://colab.research.google.com/notebooks/data_table.ipynb>data table notebook</a>'\n",
              "            + ' to learn more about interactive tables.';\n",
              "          element.innerHTML = '';\n",
              "          dataTable['output_type'] = 'display_data';\n",
              "          await google.colab.output.renderOutput(dataTable, element);\n",
              "          const docLink = document.createElement('div');\n",
              "          docLink.innerHTML = docLinkHtml;\n",
              "          element.appendChild(docLink);\n",
              "        }\n",
              "      </script>\n",
              "    </div>\n",
              "  </div>\n",
              "  "
            ]
          },
          "metadata": {},
          "execution_count": 4
        }
      ],
      "source": [
        "#dados\n",
        "base.head()"
      ]
    },
    {
      "cell_type": "code",
      "execution_count": 5,
      "metadata": {
        "id": "dGzVJtk6gKas",
        "colab": {
          "base_uri": "https://localhost:8080/"
        },
        "outputId": "8f729a90-fc2a-4ad2-9d83-d88045ac036c"
      },
      "outputs": [
        {
          "output_type": "execute_result",
          "data": {
            "text/plain": [
              "(array([4, 2, 5, 7, 9, 4]), array([63., 67., 71., 75., 79., 83., 87.]))"
            ]
          },
          "metadata": {},
          "execution_count": 5
        }
      ],
      "source": [
        "# Criação do histograma, considerando somente o segundo atributo da base de dados e com duas divisões (bins)\n",
        "# A variável 'h' armazena as faixas de valores de Height\n",
        "h = np.histogram(base['Height'], bins = 6)\n",
        "h"
      ]
    },
    {
      "cell_type": "markdown",
      "source": [
        "Utilizando o Matplotlib"
      ],
      "metadata": {
        "id": "QHlrKBfBj64I"
      }
    },
    {
      "cell_type": "code",
      "execution_count": 6,
      "metadata": {
        "id": "tPcczBUTgKas",
        "colab": {
          "base_uri": "https://localhost:8080/",
          "height": 312
        },
        "outputId": "0b62b6f1-f6df-4a78-8c9c-a6d8c01fb71a"
      },
      "outputs": [
        {
          "output_type": "execute_result",
          "data": {
            "text/plain": [
              "Text(0.5, 0, 'Altura')"
            ]
          },
          "metadata": {},
          "execution_count": 6
        },
        {
          "output_type": "display_data",
          "data": {
            "text/plain": [
              "<Figure size 432x288 with 1 Axes>"
            ],
            "image/png": "[encoded data removed]"
          },
          "metadata": {
            "needs_background": "light"
          }
        }
      ],
      "source": [
        "# Visualização do histograma com 6 divisões (bins)\n",
        "plt.hist(base['Height'], bins = 6)\n",
        "plt.title('Árvores')\n",
        "plt.ylabel('Frequência')\n",
        "plt.xlabel('Altura')"
      ]
    },
    {
      "cell_type": "markdown",
      "source": [
        "Utilizando o Seaborn"
      ],
      "metadata": {
        "id": "0bgAVuVHj2VP"
      }
    },
    {
      "cell_type": "code",
      "source": [
        "sea.displot(base['Height'])"
      ],
      "metadata": {
        "id": "rrJtNstDj1vo",
        "colab": {
          "base_uri": "https://localhost:8080/",
          "height": 386
        },
        "outputId": "2454b42d-9ade-4731-bbae-54eb35569dad"
      },
      "execution_count": 7,
      "outputs": [
        {
          "output_type": "execute_result",
          "data": {
            "text/plain": [
              "<seaborn.axisgrid.FacetGrid at 0x7fce71e663d0>"
            ]
          },
          "metadata": {},
          "execution_count": 7
        },
        {
          "output_type": "display_data",
          "data": {
            "text/plain": [
              "<Figure size 360x360 with 1 Axes>"
            ],
            "image/png": "[encoded data removed]"
          },
          "metadata": {
            "needs_background": "light"
          }
        }
      ]
    },
    {
      "cell_type": "code",
      "source": [
        "sea.histplot(base['Height'])"
      ],
      "metadata": {
        "id": "xshK9Ftqb7qu",
        "colab": {
          "base_uri": "https://localhost:8080/",
          "height": 296
        },
        "outputId": "81d604fe-687a-435d-a2ca-6a082b506674"
      },
      "execution_count": 8,
      "outputs": [
        {
          "output_type": "execute_result",
          "data": {
            "text/plain": [
              "<matplotlib.axes._subplots.AxesSubplot at 0x7fce71901cd0>"
            ]
          },
          "metadata": {},
          "execution_count": 8
        },
        {
          "output_type": "display_data",
          "data": {
            "text/plain": [
              "<Figure size 432x288 with 1 Axes>"
            ],
            "image/png": "[encoded data removed]"
          },
          "metadata": {
            "needs_background": "light"
          }
        }
      ]
    },
    {
      "cell_type": "code",
      "source": [
        "sea.displot(base['Height'], kde= True)"
      ],
      "metadata": {
        "id": "hXQDPG6old9n",
        "colab": {
          "base_uri": "https://localhost:8080/",
          "height": 386
        },
        "outputId": "5e39352d-952e-41ad-a5d3-6f22c7252bf7"
      },
      "execution_count": 9,
      "outputs": [
        {
          "output_type": "execute_result",
          "data": {
            "text/plain": [
              "<seaborn.axisgrid.FacetGrid at 0x7fce6f04e310>"
            ]
          },
          "metadata": {},
          "execution_count": 9
        },
        {
          "output_type": "display_data",
          "data": {
            "text/plain": [
              "<Figure size 360x360 with 1 Axes>"
            ],
            "image/png": "[encoded data removed]"
          },
          "metadata": {
            "needs_background": "light"
          }
        }
      ]
    },
    {
      "cell_type": "markdown",
      "source": [
        "#Gráficos de Densidade"
      ],
      "metadata": {
        "id": "1ftl3GtEctKO"
      }
    },
    {
      "cell_type": "code",
      "source": [
        "sea.distplot(base['Height'],hist= False, kde= True)"
      ],
      "metadata": {
        "id": "GDuDcxfZc0Zt",
        "colab": {
          "base_uri": "https://localhost:8080/",
          "height": 351
        },
        "outputId": "82ab6abd-d9fc-446e-c981-6e0d46b3778d"
      },
      "execution_count": 10,
      "outputs": [
        {
          "output_type": "stream",
          "name": "stderr",
          "text": [
            "/usr/local/lib/python3.7/dist-packages/seaborn/distributions.py:2619: FutureWarning: `distplot` is a deprecated function and will be removed in a future version. Please adapt your code to use either `displot` (a figure-level function with similar flexibility) or `kdeplot` (an axes-level function for kernel density plots).\n",
            "  warnings.warn(msg, FutureWarning)\n"
          ]
        },
        {
          "output_type": "execute_result",
          "data": {
            "text/plain": [
              "<matplotlib.axes._subplots.AxesSubplot at 0x7fce6f019790>"
            ]
          },
          "metadata": {},
          "execution_count": 10
        },
        {
          "output_type": "display_data",
          "data": {
            "text/plain": [
              "<Figure size 432x288 with 1 Axes>"
            ],
            "image/png": "[encoded data removed]"
          },
          "metadata": {
            "needs_background": "light"
          }
        }
      ]
    },
    {
      "cell_type": "code",
      "source": [
        "sea.distplot(base['Height'],hist= True, kde= True, bins= 6, hist_kws= {'edgecolor':'black'})"
      ],
      "metadata": {
        "id": "q4menSI3dDc1",
        "colab": {
          "base_uri": "https://localhost:8080/",
          "height": 351
        },
        "outputId": "0208fa09-d55a-4c20-f0f6-1bd10fa15880"
      },
      "execution_count": 11,
      "outputs": [
        {
          "output_type": "stream",
          "name": "stderr",
          "text": [
            "/usr/local/lib/python3.7/dist-packages/seaborn/distributions.py:2619: FutureWarning: `distplot` is a deprecated function and will be removed in a future version. Please adapt your code to use either `displot` (a figure-level function with similar flexibility) or `histplot` (an axes-level function for histograms).\n",
            "  warnings.warn(msg, FutureWarning)\n"
          ]
        },
        {
          "output_type": "execute_result",
          "data": {
            "text/plain": [
              "<matplotlib.axes._subplots.AxesSubplot at 0x7fce6ef40a10>"
            ]
          },
          "metadata": {},
          "execution_count": 11
        },
        {
          "output_type": "display_data",
          "data": {
            "text/plain": [
              "<Figure size 432x288 with 1 Axes>"
            ],
            "image/png": "[encoded data removed]"
          },
          "metadata": {
            "needs_background": "light"
          }
        }
      ]
    },
    {
      "cell_type": "markdown",
      "source": [
        "#Gráficos de Dispersão"
      ],
      "metadata": {
        "id": "f2OVdCl4d6Y1"
      }
    },
    {
      "cell_type": "code",
      "source": [
        "plt.scatter(base['Girth'], base['Volume'], color = 'blue', facecolors= 'none', marker= '*')\n",
        "plt.title('Arvores')\n",
        "plt.xlabel('Volume')\n",
        "plt.ylabel('Circunferencia')"
      ],
      "metadata": {
        "id": "MgZwhuJWd_DU",
        "colab": {
          "base_uri": "https://localhost:8080/",
          "height": 312
        },
        "outputId": "3098f443-02ef-4d89-e535-ef35e5263c10"
      },
      "execution_count": 12,
      "outputs": [
        {
          "output_type": "execute_result",
          "data": {
            "text/plain": [
              "Text(0, 0.5, 'Circunferencia')"
            ]
          },
          "metadata": {},
          "execution_count": 12
        },
        {
          "output_type": "display_data",
          "data": {
            "text/plain": [
              "<Figure size 432x288 with 1 Axes>"
            ],
            "image/png": "[encoded data removed]"
          },
          "metadata": {
            "needs_background": "light"
          }
        }
      ]
    },
    {
      "cell_type": "code",
      "source": [
        "plt.plot(base['Girth'], base['Volume'])\n",
        "plt.title('Arvores')\n",
        "plt.xlabel('Circunferencia')\n",
        "plt.ylabel('Volume')"
      ],
      "metadata": {
        "id": "XnH0sFVFfWBN",
        "colab": {
          "base_uri": "https://localhost:8080/",
          "height": 312
        },
        "outputId": "83d3692a-4cc7-415a-f281-6d5f6b881209"
      },
      "execution_count": 13,
      "outputs": [
        {
          "output_type": "execute_result",
          "data": {
            "text/plain": [
              "Text(0, 0.5, 'Volume')"
            ]
          },
          "metadata": {},
          "execution_count": 13
        },
        {
          "output_type": "display_data",
          "data": {
            "text/plain": [
              "<Figure size 432x288 with 1 Axes>"
            ],
            "image/png": "[encoded data removed]"
          },
          "metadata": {
            "needs_background": "light"
          }
        }
      ]
    },
    {
      "cell_type": "code",
      "source": [
        "#Graficos de Dispersão com afastamento dos dados.\n",
        "sea.regplot(base['Girth'], base['Volume'], x_jitter= 0.3, fit_reg= False)"
      ],
      "metadata": {
        "id": "ub379XH5gw3r",
        "colab": {
          "base_uri": "https://localhost:8080/",
          "height": 354
        },
        "outputId": "879c9296-a6a5-42ba-f92a-ad40d4fc4975"
      },
      "execution_count": 14,
      "outputs": [
        {
          "output_type": "stream",
          "name": "stderr",
          "text": [
            "/usr/local/lib/python3.7/dist-packages/seaborn/_decorators.py:43: FutureWarning: Pass the following variables as keyword args: x, y. From version 0.12, the only valid positional argument will be `data`, and passing other arguments without an explicit keyword will result in an error or misinterpretation.\n",
            "  FutureWarning\n"
          ]
        },
        {
          "output_type": "execute_result",
          "data": {
            "text/plain": [
              "<matplotlib.axes._subplots.AxesSubplot at 0x7fce6edde690>"
            ]
          },
          "metadata": {},
          "execution_count": 14
        },
        {
          "output_type": "display_data",
          "data": {
            "text/plain": [
              "<Figure size 432x288 with 1 Axes>"
            ],
            "image/png": "[encoded data removed]"
          },
          "metadata": {
            "needs_background": "light"
          }
        }
      ]
    },
    {
      "cell_type": "markdown",
      "source": [
        "#Grafico de Dispersão com variável categórica"
      ],
      "metadata": {
        "id": "A0jaNsY9lPjj"
      }
    },
    {
      "cell_type": "code",
      "source": [
        "base2 = pd.read_csv('/content/drive/MyDrive/todos os arquivos/13.Prática em Python/dados/co2.csv')\n",
        "base2.head()"
      ],
      "metadata": {
        "id": "m7SFEoIchmRs",
        "colab": {
          "base_uri": "https://localhost:8080/",
          "height": 206
        },
        "outputId": "377047f8-2338-4955-e8ac-44aac96b0c80"
      },
      "execution_count": 15,
      "outputs": [
        {
          "output_type": "execute_result",
          "data": {
            "text/plain": [
              "  Plant    Type   Treatment  conc  uptake\n",
              "0   Qn1  Quebec  nonchilled    95    16.0\n",
              "1   Qn1  Quebec  nonchilled   175    30.4\n",
              "2   Qn1  Quebec  nonchilled   250    34.8\n",
              "3   Qn1  Quebec  nonchilled   350    37.2\n",
              "4   Qn1  Quebec  nonchilled   500    35.3"
            ],
            "text/html": [
              "\n",
              "  <div id=\"df-36a343d5-310b-4ebd-9c0c-304b41aa0c30\">\n",
              "    <div class=\"colab-df-container\">\n",
              "      <div>\n",
              "<style scoped>\n",
              "    .dataframe tbody tr th:only-of-type {\n",
              "        vertical-align: middle;\n",
              "    }\n",
              "\n",
              "    .dataframe tbody tr th {\n",
              "        vertical-align: top;\n",
              "    }\n",
              "\n",
              "    .dataframe thead th {\n",
              "        text-align: right;\n",
              "    }\n",
              "</style>\n",
              "<table border=\"1\" class=\"dataframe\">\n",
              "  <thead>\n",
              "    <tr style=\"text-align: right;\">\n",
              "      <th></th>\n",
              "      <th>Plant</th>\n",
              "      <th>Type</th>\n",
              "      <th>Treatment</th>\n",
              "      <th>conc</th>\n",
              "      <th>uptake</th>\n",
              "    </tr>\n",
              "  </thead>\n",
              "  <tbody>\n",
              "    <tr>\n",
              "      <th>0</th>\n",
              "      <td>Qn1</td>\n",
              "      <td>Quebec</td>\n",
              "      <td>nonchilled</td>\n",
              "      <td>95</td>\n",
              "      <td>16.0</td>\n",
              "    </tr>\n",
              "    <tr>\n",
              "      <th>1</th>\n",
              "      <td>Qn1</td>\n",
              "      <td>Quebec</td>\n",
              "      <td>nonchilled</td>\n",
              "      <td>175</td>\n",
              "      <td>30.4</td>\n",
              "    </tr>\n",
              "    <tr>\n",
              "      <th>2</th>\n",
              "      <td>Qn1</td>\n",
              "      <td>Quebec</td>\n",
              "      <td>nonchilled</td>\n",
              "      <td>250</td>\n",
              "      <td>34.8</td>\n",
              "    </tr>\n",
              "    <tr>\n",
              "      <th>3</th>\n",
              "      <td>Qn1</td>\n",
              "      <td>Quebec</td>\n",
              "      <td>nonchilled</td>\n",
              "      <td>350</td>\n",
              "      <td>37.2</td>\n",
              "    </tr>\n",
              "    <tr>\n",
              "      <th>4</th>\n",
              "      <td>Qn1</td>\n",
              "      <td>Quebec</td>\n",
              "      <td>nonchilled</td>\n",
              "      <td>500</td>\n",
              "      <td>35.3</td>\n",
              "    </tr>\n",
              "  </tbody>\n",
              "</table>\n",
              "</div>\n",
              "      <button class=\"colab-df-convert\" onclick=\"convertToInteractive('df-36a343d5-310b-4ebd-9c0c-304b41aa0c30')\"\n",
              "              title=\"Convert this dataframe to an interactive table.\"\n",
              "              style=\"display:none;\">\n",
              "        \n",
              "  <svg xmlns=\"http://www.w3.org/2000/svg\" height=\"24px\"viewBox=\"0 0 24 24\"\n",
              "       width=\"24px\">\n",
              "    <path d=\"M0 0h24v24H0V0z\" fill=\"none\"/>\n",
              "    <path d=\"M18.56 5.44l.94 2.06.94-2.06 2.06-.94-2.06-.94-.94-2.06-.94 2.06-2.06.94zm-11 1L8.5 8.5l.94-2.06 2.06-.94-2.06-.94L8.5 2.5l-.94 2.06-2.06.94zm10 10l.94 2.06.94-2.06 2.06-.94-2.06-.94-.94-2.06-.94 2.06-2.06.94z\"/><path d=\"M17.41 7.96l-1.37-1.37c-.4-.4-.92-.59-1.43-.59-.52 0-1.04.2-1.43.59L10.3 9.45l-7.72 7.72c-.78.78-.78 2.05 0 2.83L4 21.41c.39.39.9.59 1.41.59.51 0 1.02-.2 1.41-.59l7.78-7.78 2.81-2.81c.8-.78.8-2.07 0-2.86zM5.41 20L4 18.59l7.72-7.72 1.47 1.35L5.41 20z\"/>\n",
              "  </svg>\n",
              "      </button>\n",
              "      \n",
              "  <style>\n",
              "    .colab-df-container {\n",
              "      display:flex;\n",
              "      flex-wrap:wrap;\n",
              "      gap: 12px;\n",
              "    }\n",
              "\n",
              "    .colab-df-convert {\n",
              "      background-color: #E8F0FE;\n",
              "      border: none;\n",
              "      border-radius: 50%;\n",
              "      cursor: pointer;\n",
              "      display: none;\n",
              "      fill: #1967D2;\n",
              "      height: 32px;\n",
              "      padding: 0 0 0 0;\n",
              "      width: 32px;\n",
              "    }\n",
              "\n",
              "    .colab-df-convert:hover {\n",
              "      background-color: #E2EBFA;\n",
              "      box-shadow: 0px 1px 2px rgba(60, 64, 67, 0.3), 0px 1px 3px 1px rgba(60, 64, 67, 0.15);\n",
              "      fill: #174EA6;\n",
              "    }\n",
              "\n",
              "    [theme=dark] .colab-df-convert {\n",
              "      background-color: #3B4455;\n",
              "      fill: #D2E3FC;\n",
              "    }\n",
              "\n",
              "    [theme=dark] .colab-df-convert:hover {\n",
              "      background-color: #434B5C;\n",
              "      box-shadow: 0px 1px 3px 1px rgba(0, 0, 0, 0.15);\n",
              "      filter: drop-shadow(0px 1px 2px rgba(0, 0, 0, 0.3));\n",
              "      fill: #FFFFFF;\n",
              "    }\n",
              "  </style>\n",
              "\n",
              "      <script>\n",
              "        const buttonEl =\n",
              "          document.querySelector('#df-36a343d5-310b-4ebd-9c0c-304b41aa0c30 button.colab-df-convert');\n",
              "        buttonEl.style.display =\n",
              "          google.colab.kernel.accessAllowed ? 'block' : 'none';\n",
              "\n",
              "        async function convertToInteractive(key) {\n",
              "          const element = document.querySelector('#df-36a343d5-310b-4ebd-9c0c-304b41aa0c30');\n",
              "          const dataTable =\n",
              "            await google.colab.kernel.invokeFunction('convertToInteractive',\n",
              "                                                     [key], {});\n",
              "          if (!dataTable) return;\n",
              "\n",
              "          const docLinkHtml = 'Like what you see? Visit the ' +\n",
              "            '<a target=\"_blank\" href=https://colab.research.google.com/notebooks/data_table.ipynb>data table notebook</a>'\n",
              "            + ' to learn more about interactive tables.';\n",
              "          element.innerHTML = '';\n",
              "          dataTable['output_type'] = 'display_data';\n",
              "          await google.colab.output.renderOutput(dataTable, element);\n",
              "          const docLink = document.createElement('div');\n",
              "          docLink.innerHTML = docLinkHtml;\n",
              "          element.appendChild(docLink);\n",
              "        }\n",
              "      </script>\n",
              "    </div>\n",
              "  </div>\n",
              "  "
            ]
          },
          "metadata": {},
          "execution_count": 15
        }
      ]
    },
    {
      "cell_type": "code",
      "source": [
        "x = base2['conc']\n",
        "y = base2['uptake']\n",
        "label = list(set(base2['Treatment']))\n",
        "label"
      ],
      "metadata": {
        "id": "h-IlUyfOl4MC",
        "colab": {
          "base_uri": "https://localhost:8080/"
        },
        "outputId": "878f811a-61b0-4fc1-819c-be7daf99c608"
      },
      "execution_count": 16,
      "outputs": [
        {
          "output_type": "execute_result",
          "data": {
            "text/plain": [
              "['chilled', 'nonchilled']"
            ]
          },
          "metadata": {},
          "execution_count": 16
        }
      ]
    },
    {
      "cell_type": "code",
      "source": [
        "for i in range(len(label)):\n",
        "    indice = base2.Treatment == label[i]\n",
        "    plt.scatter(x[indice], y[indice], label = label[i])\n",
        "plt.legend(loc = 'lower right')"
      ],
      "metadata": {
        "id": "6i-12adDmega",
        "colab": {
          "base_uri": "https://localhost:8080/",
          "height": 282
        },
        "outputId": "20aa963c-5d8c-42e2-bae8-b04455ffe4ca"
      },
      "execution_count": 17,
      "outputs": [
        {
          "output_type": "execute_result",
          "data": {
            "text/plain": [
              "<matplotlib.legend.Legend at 0x7fce6ed7d150>"
            ]
          },
          "metadata": {},
          "execution_count": 17
        },
        {
          "output_type": "display_data",
          "data": {
            "text/plain": [
              "<Figure size 432x288 with 1 Axes>"
            ],
            "image/png": "[encoded data removed]"
          },
          "metadata": {
            "needs_background": "light"
          }
        }
      ]
    },
    {
      "cell_type": "markdown",
      "source": [
        "#Gráfico de Boxplot"
      ],
      "metadata": {
        "id": "_tLlX5Uw210z"
      }
    },
    {
      "cell_type": "code",
      "source": [
        "base.head()"
      ],
      "metadata": {
        "colab": {
          "base_uri": "https://localhost:8080/",
          "height": 206
        },
        "id": "QJu-q1Zi25lr",
        "outputId": "624226a2-22d5-44a0-ff22-f5fc7be4244b"
      },
      "execution_count": 18,
      "outputs": [
        {
          "output_type": "execute_result",
          "data": {
            "text/plain": [
              "   Girth  Height  Volume\n",
              "0    8.3      70    10.3\n",
              "1    8.6      65    10.3\n",
              "2    8.8      63    10.2\n",
              "3   10.5      72    16.4\n",
              "4   10.7      81    18.8"
            ],
            "text/html": [
              "\n",
              "  <div id=\"df-3e37ec30-0d98-4683-ab85-6ec655a1cbff\">\n",
              "    <div class=\"colab-df-container\">\n",
              "      <div>\n",
              "<style scoped>\n",
              "    .dataframe tbody tr th:only-of-type {\n",
              "        vertical-align: middle;\n",
              "    }\n",
              "\n",
              "    .dataframe tbody tr th {\n",
              "        vertical-align: top;\n",
              "    }\n",
              "\n",
              "    .dataframe thead th {\n",
              "        text-align: right;\n",
              "    }\n",
              "</style>\n",
              "<table border=\"1\" class=\"dataframe\">\n",
              "  <thead>\n",
              "    <tr style=\"text-align: right;\">\n",
              "      <th></th>\n",
              "      <th>Girth</th>\n",
              "      <th>Height</th>\n",
              "      <th>Volume</th>\n",
              "    </tr>\n",
              "  </thead>\n",
              "  <tbody>\n",
              "    <tr>\n",
              "      <th>0</th>\n",
              "      <td>8.3</td>\n",
              "      <td>70</td>\n",
              "      <td>10.3</td>\n",
              "    </tr>\n",
              "    <tr>\n",
              "      <th>1</th>\n",
              "      <td>8.6</td>\n",
              "      <td>65</td>\n",
              "      <td>10.3</td>\n",
              "    </tr>\n",
              "    <tr>\n",
              "      <th>2</th>\n",
              "      <td>8.8</td>\n",
              "      <td>63</td>\n",
              "      <td>10.2</td>\n",
              "    </tr>\n",
              "    <tr>\n",
              "      <th>3</th>\n",
              "      <td>10.5</td>\n",
              "      <td>72</td>\n",
              "      <td>16.4</td>\n",
              "    </tr>\n",
              "    <tr>\n",
              "      <th>4</th>\n",
              "      <td>10.7</td>\n",
              "      <td>81</td>\n",
              "      <td>18.8</td>\n",
              "    </tr>\n",
              "  </tbody>\n",
              "</table>\n",
              "</div>\n",
              "      <button class=\"colab-df-convert\" onclick=\"convertToInteractive('df-3e37ec30-0d98-4683-ab85-6ec655a1cbff')\"\n",
              "              title=\"Convert this dataframe to an interactive table.\"\n",
              "              style=\"display:none;\">\n",
              "        \n",
              "  <svg xmlns=\"http://www.w3.org/2000/svg\" height=\"24px\"viewBox=\"0 0 24 24\"\n",
              "       width=\"24px\">\n",
              "    <path d=\"M0 0h24v24H0V0z\" fill=\"none\"/>\n",
              "    <path d=\"M18.56 5.44l.94 2.06.94-2.06 2.06-.94-2.06-.94-.94-2.06-.94 2.06-2.06.94zm-11 1L8.5 8.5l.94-2.06 2.06-.94-2.06-.94L8.5 2.5l-.94 2.06-2.06.94zm10 10l.94 2.06.94-2.06 2.06-.94-2.06-.94-.94-2.06-.94 2.06-2.06.94z\"/><path d=\"M17.41 7.96l-1.37-1.37c-.4-.4-.92-.59-1.43-.59-.52 0-1.04.2-1.43.59L10.3 9.45l-7.72 7.72c-.78.78-.78 2.05 0 2.83L4 21.41c.39.39.9.59 1.41.59.51 0 1.02-.2 1.41-.59l7.78-7.78 2.81-2.81c.8-.78.8-2.07 0-2.86zM5.41 20L4 18.59l7.72-7.72 1.47 1.35L5.41 20z\"/>\n",
              "  </svg>\n",
              "      </button>\n",
              "      \n",
              "  <style>\n",
              "    .colab-df-container {\n",
              "      display:flex;\n",
              "      flex-wrap:wrap;\n",
              "      gap: 12px;\n",
              "    }\n",
              "\n",
              "    .colab-df-convert {\n",
              "      background-color: #E8F0FE;\n",
              "      border: none;\n",
              "      border-radius: 50%;\n",
              "      cursor: pointer;\n",
              "      display: none;\n",
              "      fill: #1967D2;\n",
              "      height: 32px;\n",
              "      padding: 0 0 0 0;\n",
              "      width: 32px;\n",
              "    }\n",
              "\n",
              "    .colab-df-convert:hover {\n",
              "      background-color: #E2EBFA;\n",
              "      box-shadow: 0px 1px 2px rgba(60, 64, 67, 0.3), 0px 1px 3px 1px rgba(60, 64, 67, 0.15);\n",
              "      fill: #174EA6;\n",
              "    }\n",
              "\n",
              "    [theme=dark] .colab-df-convert {\n",
              "      background-color: #3B4455;\n",
              "      fill: #D2E3FC;\n",
              "    }\n",
              "\n",
              "    [theme=dark] .colab-df-convert:hover {\n",
              "      background-color: #434B5C;\n",
              "      box-shadow: 0px 1px 3px 1px rgba(0, 0, 0, 0.15);\n",
              "      filter: drop-shadow(0px 1px 2px rgba(0, 0, 0, 0.3));\n",
              "      fill: #FFFFFF;\n",
              "    }\n",
              "  </style>\n",
              "\n",
              "      <script>\n",
              "        const buttonEl =\n",
              "          document.querySelector('#df-3e37ec30-0d98-4683-ab85-6ec655a1cbff button.colab-df-convert');\n",
              "        buttonEl.style.display =\n",
              "          google.colab.kernel.accessAllowed ? 'block' : 'none';\n",
              "\n",
              "        async function convertToInteractive(key) {\n",
              "          const element = document.querySelector('#df-3e37ec30-0d98-4683-ab85-6ec655a1cbff');\n",
              "          const dataTable =\n",
              "            await google.colab.kernel.invokeFunction('convertToInteractive',\n",
              "                                                     [key], {});\n",
              "          if (!dataTable) return;\n",
              "\n",
              "          const docLinkHtml = 'Like what you see? Visit the ' +\n",
              "            '<a target=\"_blank\" href=https://colab.research.google.com/notebooks/data_table.ipynb>data table notebook</a>'\n",
              "            + ' to learn more about interactive tables.';\n",
              "          element.innerHTML = '';\n",
              "          dataTable['output_type'] = 'display_data';\n",
              "          await google.colab.output.renderOutput(dataTable, element);\n",
              "          const docLink = document.createElement('div');\n",
              "          docLink.innerHTML = docLinkHtml;\n",
              "          element.appendChild(docLink);\n",
              "        }\n",
              "      </script>\n",
              "    </div>\n",
              "  </div>\n",
              "  "
            ]
          },
          "metadata": {},
          "execution_count": 18
        }
      ]
    },
    {
      "cell_type": "markdown",
      "source": [
        "###Utilizando o Matplotlib"
      ],
      "metadata": {
        "id": "yvYd41CR9Mzc"
      }
    },
    {
      "cell_type": "code",
      "source": [
        "plt.boxplot(base['Volume'], vert= False, showfliers= False, notch= True, patch_artist= True)"
      ],
      "metadata": {
        "colab": {
          "base_uri": "https://localhost:8080/",
          "height": 404
        },
        "id": "4en_cMjb3E6i",
        "outputId": "72a354da-3214-4944-a4bc-a0cca1fc35da"
      },
      "execution_count": 19,
      "outputs": [
        {
          "output_type": "execute_result",
          "data": {
            "text/plain": [
              "{'whiskers': [<matplotlib.lines.Line2D at 0x7fce6eca25d0>,\n",
              "  <matplotlib.lines.Line2D at 0x7fce6eca2b90>],\n",
              " 'caps': [<matplotlib.lines.Line2D at 0x7fce6ecae110>,\n",
              "  <matplotlib.lines.Line2D at 0x7fce6ecae650>],\n",
              " 'boxes': [<matplotlib.patches.PathPatch at 0x7fce6ec99ad0>],\n",
              " 'medians': [<matplotlib.lines.Line2D at 0x7fce6ecaeb90>],\n",
              " 'fliers': [],\n",
              " 'means': []}"
            ]
          },
          "metadata": {},
          "execution_count": 19
        },
        {
          "output_type": "display_data",
          "data": {
            "text/plain": [
              "<Figure size 432x288 with 1 Axes>"
            ],
            "image/png": "[encoded data removed]"
          },
          "metadata": {
            "needs_background": "light"
          }
        }
      ]
    },
    {
      "cell_type": "code",
      "source": [
        "plt.boxplot(base)"
      ],
      "metadata": {
        "colab": {
          "base_uri": "https://localhost:8080/",
          "height": 1000
        },
        "id": "QiGkwV8z4SgE",
        "outputId": "f79fd8b8-9a37-4ad8-d21a-f18ac412f247"
      },
      "execution_count": 20,
      "outputs": [
        {
          "output_type": "execute_result",
          "data": {
            "text/plain": [
              "{'whiskers': [<matplotlib.lines.Line2D at 0x7fce6ec17910>,\n",
              "  <matplotlib.lines.Line2D at 0x7fce6ec17e50>,\n",
              "  <matplotlib.lines.Line2D at 0x7fce6ec25e90>,\n",
              "  <matplotlib.lines.Line2D at 0x7fce6ec2d3d0>,\n",
              "  <matplotlib.lines.Line2D at 0x7fce6ebbe3d0>,\n",
              "  <matplotlib.lines.Line2D at 0x7fce6ebbe950>,\n",
              "  <matplotlib.lines.Line2D at 0x7fce6ebce990>,\n",
              "  <matplotlib.lines.Line2D at 0x7fce6ebceed0>,\n",
              "  <matplotlib.lines.Line2D at 0x7fce6ebe0f50>,\n",
              "  <matplotlib.lines.Line2D at 0x7fce6ebea490>,\n",
              "  <matplotlib.lines.Line2D at 0x7fce6eb7a4d0>,\n",
              "  <matplotlib.lines.Line2D at 0x7fce6eb7aa10>,\n",
              "  <matplotlib.lines.Line2D at 0x7fce6eb8da10>,\n",
              "  <matplotlib.lines.Line2D at 0x7fce6eb8df50>,\n",
              "  <matplotlib.lines.Line2D at 0x7fce6eb9cf50>,\n",
              "  <matplotlib.lines.Line2D at 0x7fce6eba64d0>,\n",
              "  <matplotlib.lines.Line2D at 0x7fce6eb36450>,\n",
              "  <matplotlib.lines.Line2D at 0x7fce6eb36990>,\n",
              "  <matplotlib.lines.Line2D at 0x7fce6eb47910>,\n",
              "  <matplotlib.lines.Line2D at 0x7fce6eb47e50>,\n",
              "  <matplotlib.lines.Line2D at 0x7fce6eb59e50>,\n",
              "  <matplotlib.lines.Line2D at 0x7fce6eb613d0>,\n",
              "  <matplotlib.lines.Line2D at 0x7fce6eb733d0>,\n",
              "  <matplotlib.lines.Line2D at 0x7fce6eb73910>,\n",
              "  <matplotlib.lines.Line2D at 0x7fce6eb02910>,\n",
              "  <matplotlib.lines.Line2D at 0x7fce6eb02e50>,\n",
              "  <matplotlib.lines.Line2D at 0x7fce6eb14e50>,\n",
              "  <matplotlib.lines.Line2D at 0x7fce6eb1d3d0>,\n",
              "  <matplotlib.lines.Line2D at 0x7fce71e402d0>,\n",
              "  <matplotlib.lines.Line2D at 0x7fce71ef6850>,\n",
              "  <matplotlib.lines.Line2D at 0x7fce6f0c6250>,\n",
              "  <matplotlib.lines.Line2D at 0x7fce6f0b1a10>,\n",
              "  <matplotlib.lines.Line2D at 0x7fce6f042890>,\n",
              "  <matplotlib.lines.Line2D at 0x7fce6f0d3d10>,\n",
              "  <matplotlib.lines.Line2D at 0x7fce6ef988d0>,\n",
              "  <matplotlib.lines.Line2D at 0x7fce71962d90>,\n",
              "  <matplotlib.lines.Line2D at 0x7fce6efd6950>,\n",
              "  <matplotlib.lines.Line2D at 0x7fce6eec0dd0>,\n",
              "  <matplotlib.lines.Line2D at 0x7fce71de5cd0>,\n",
              "  <matplotlib.lines.Line2D at 0x7fce6eef0ed0>,\n",
              "  <matplotlib.lines.Line2D at 0x7fce6f0a6e50>,\n",
              "  <matplotlib.lines.Line2D at 0x7fce6ee4a310>,\n",
              "  <matplotlib.lines.Line2D at 0x7fce6f0312d0>,\n",
              "  <matplotlib.lines.Line2D at 0x7fce6edf8390>,\n",
              "  <matplotlib.lines.Line2D at 0x7fce6edcf750>,\n",
              "  <matplotlib.lines.Line2D at 0x7fce6ee6a710>,\n",
              "  <matplotlib.lines.Line2D at 0x7fce6edc6d50>,\n",
              "  <matplotlib.lines.Line2D at 0x7fce6ee76d10>,\n",
              "  <matplotlib.lines.Line2D at 0x7fce6ecf6290>,\n",
              "  <matplotlib.lines.Line2D at 0x7fce6edef590>,\n",
              "  <matplotlib.lines.Line2D at 0x7fce6ecbb550>,\n",
              "  <matplotlib.lines.Line2D at 0x7fce6ecf3110>,\n",
              "  <matplotlib.lines.Line2D at 0x7fce6ec4f650>,\n",
              "  <matplotlib.lines.Line2D at 0x7fce6ec5ba50>,\n",
              "  <matplotlib.lines.Line2D at 0x7fce6eb0c650>,\n",
              "  <matplotlib.lines.Line2D at 0x7fce6ec646d0>,\n",
              "  <matplotlib.lines.Line2D at 0x7fce6ea13b50>,\n",
              "  <matplotlib.lines.Line2D at 0x7fce6ea1b0d0>,\n",
              "  <matplotlib.lines.Line2D at 0x7fce6ea2b0d0>,\n",
              "  <matplotlib.lines.Line2D at 0x7fce6ea2b690>,\n",
              "  <matplotlib.lines.Line2D at 0x7fce6e9bd610>,\n",
              "  <matplotlib.lines.Line2D at 0x7fce6e9bdb50>],\n",
              " 'caps': [<matplotlib.lines.Line2D at 0x7fce6ec1c3d0>,\n",
              "  <matplotlib.lines.Line2D at 0x7fce6ec1c910>,\n",
              "  <matplotlib.lines.Line2D at 0x7fce6ec2d910>,\n",
              "  <matplotlib.lines.Line2D at 0x7fce6ec2de50>,\n",
              "  <matplotlib.lines.Line2D at 0x7fce6ebbee90>,\n",
              "  <matplotlib.lines.Line2D at 0x7fce6ebc7450>,\n",
              "  <matplotlib.lines.Line2D at 0x7fce6ebd8450>,\n",
              "  <matplotlib.lines.Line2D at 0x7fce6ebd8990>,\n",
              "  <matplotlib.lines.Line2D at 0x7fce6ebea9d0>,\n",
              "  <matplotlib.lines.Line2D at 0x7fce6ebeaed0>,\n",
              "  <matplotlib.lines.Line2D at 0x7fce6eb7af50>,\n",
              "  <matplotlib.lines.Line2D at 0x7fce6eb834d0>,\n",
              "  <matplotlib.lines.Line2D at 0x7fce6eb954d0>,\n",
              "  <matplotlib.lines.Line2D at 0x7fce6eb95a10>,\n",
              "  <matplotlib.lines.Line2D at 0x7fce6eba6a10>,\n",
              "  <matplotlib.lines.Line2D at 0x7fce6eba6f50>,\n",
              "  <matplotlib.lines.Line2D at 0x7fce6eb36ed0>,\n",
              "  <matplotlib.lines.Line2D at 0x7fce6eb3f450>,\n",
              "  <matplotlib.lines.Line2D at 0x7fce6eb503d0>,\n",
              "  <matplotlib.lines.Line2D at 0x7fce6eb50910>,\n",
              "  <matplotlib.lines.Line2D at 0x7fce6eb61910>,\n",
              "  <matplotlib.lines.Line2D at 0x7fce6eb61e50>,\n",
              "  <matplotlib.lines.Line2D at 0x7fce6eb73e50>,\n",
              "  <matplotlib.lines.Line2D at 0x7fce6eafb3d0>,\n",
              "  <matplotlib.lines.Line2D at 0x7fce6eb0c3d0>,\n",
              "  <matplotlib.lines.Line2D at 0x7fce6eb0c910>,\n",
              "  <matplotlib.lines.Line2D at 0x7fce6eb1d910>,\n",
              "  <matplotlib.lines.Line2D at 0x7fce6eb1de50>,\n",
              "  <matplotlib.lines.Line2D at 0x7fce71dccb10>,\n",
              "  <matplotlib.lines.Line2D at 0x7fce71e2ba10>,\n",
              "  <matplotlib.lines.Line2D at 0x7fce6f0e5290>,\n",
              "  <matplotlib.lines.Line2D at 0x7fce6f0cee90>,\n",
              "  <matplotlib.lines.Line2D at 0x7fce71ddb290>,\n",
              "  <matplotlib.lines.Line2D at 0x7fce6f0bc950>,\n",
              "  <matplotlib.lines.Line2D at 0x7fce6f04e390>,\n",
              "  <matplotlib.lines.Line2D at 0x7fce6ef4fc10>,\n",
              "  <matplotlib.lines.Line2D at 0x7fce6eedda90>,\n",
              "  <matplotlib.lines.Line2D at 0x7fce6eedd450>,\n",
              "  <matplotlib.lines.Line2D at 0x7fce6ef68590>,\n",
              "  <matplotlib.lines.Line2D at 0x7fce6ee7c310>,\n",
              "  <matplotlib.lines.Line2D at 0x7fce6eef4d50>,\n",
              "  <matplotlib.lines.Line2D at 0x7fce6ee653d0>,\n",
              "  <matplotlib.lines.Line2D at 0x7fce6eef6890>,\n",
              "  <matplotlib.lines.Line2D at 0x7fce6edbf350>,\n",
              "  <matplotlib.lines.Line2D at 0x7fce6eda4410>,\n",
              "  <matplotlib.lines.Line2D at 0x7fce6ed38210>,\n",
              "  <matplotlib.lines.Line2D at 0x7fce6ee40110>,\n",
              "  <matplotlib.lines.Line2D at 0x7fce6ee71bd0>,\n",
              "  <matplotlib.lines.Line2D at 0x7fce6edefc50>,\n",
              "  <matplotlib.lines.Line2D at 0x7fce6ed7d310>,\n",
              "  <matplotlib.lines.Line2D at 0x7fce6ecf3c10>,\n",
              "  <matplotlib.lines.Line2D at 0x7fce6ecae3d0>,\n",
              "  <matplotlib.lines.Line2D at 0x7fce72787590>,\n",
              "  <matplotlib.lines.Line2D at 0x7fce6ebb5150>,\n",
              "  <matplotlib.lines.Line2D at 0x7fce6eb2e090>,\n",
              "  <matplotlib.lines.Line2D at 0x7fce6eb2e610>,\n",
              "  <matplotlib.lines.Line2D at 0x7fce6ea1b610>,\n",
              "  <matplotlib.lines.Line2D at 0x7fce6ea1bb50>,\n",
              "  <matplotlib.lines.Line2D at 0x7fce6ea2bcd0>,\n",
              "  <matplotlib.lines.Line2D at 0x7fce6e9b50d0>,\n",
              "  <matplotlib.lines.Line2D at 0x7fce6e9c60d0>,\n",
              "  <matplotlib.lines.Line2D at 0x7fce6e9c6610>],\n",
              " 'boxes': [<matplotlib.lines.Line2D at 0x7fce6ec17310>,\n",
              "  <matplotlib.lines.Line2D at 0x7fce6ec25910>,\n",
              "  <matplotlib.lines.Line2D at 0x7fce6ebb5e10>,\n",
              "  <matplotlib.lines.Line2D at 0x7fce6ebce410>,\n",
              "  <matplotlib.lines.Line2D at 0x7fce6ebe0990>,\n",
              "  <matplotlib.lines.Line2D at 0x7fce6ebf2f10>,\n",
              "  <matplotlib.lines.Line2D at 0x7fce6eb8d490>,\n",
              "  <matplotlib.lines.Line2D at 0x7fce6eb9c9d0>,\n",
              "  <matplotlib.lines.Line2D at 0x7fce6ebaded0>,\n",
              "  <matplotlib.lines.Line2D at 0x7fce6eb47390>,\n",
              "  <matplotlib.lines.Line2D at 0x7fce6eb598d0>,\n",
              "  <matplotlib.lines.Line2D at 0x7fce6eb6ae10>,\n",
              "  <matplotlib.lines.Line2D at 0x7fce6eb02390>,\n",
              "  <matplotlib.lines.Line2D at 0x7fce6eb148d0>,\n",
              "  <matplotlib.lines.Line2D at 0x7fce6eb26e10>,\n",
              "  <matplotlib.lines.Line2D at 0x7fce71901710>,\n",
              "  <matplotlib.lines.Line2D at 0x7fce6f042590>,\n",
              "  <matplotlib.lines.Line2D at 0x7fce6f057ed0>,\n",
              "  <matplotlib.lines.Line2D at 0x7fce6ef31a10>,\n",
              "  <matplotlib.lines.Line2D at 0x7fce6f0d8dd0>,\n",
              "  <matplotlib.lines.Line2D at 0x7fce6ee50350>,\n",
              "  <matplotlib.lines.Line2D at 0x7fce6f031fd0>,\n",
              "  <matplotlib.lines.Line2D at 0x7fce6edcf990>,\n",
              "  <matplotlib.lines.Line2D at 0x7fce6ed4d890>,\n",
              "  <matplotlib.lines.Line2D at 0x7fce6ee561d0>,\n",
              "  <matplotlib.lines.Line2D at 0x7fce6ecdc750>,\n",
              "  <matplotlib.lines.Line2D at 0x7fce6ec46cd0>,\n",
              "  <matplotlib.lines.Line2D at 0x7fce6eb50b90>,\n",
              "  <matplotlib.lines.Line2D at 0x7fce6ea135d0>,\n",
              "  <matplotlib.lines.Line2D at 0x7fce6ea25b10>,\n",
              "  <matplotlib.lines.Line2D at 0x7fce6e9bd090>],\n",
              " 'medians': [<matplotlib.lines.Line2D at 0x7fce6ec1ce90>,\n",
              "  <matplotlib.lines.Line2D at 0x7fce6ebb53d0>,\n",
              "  <matplotlib.lines.Line2D at 0x7fce6ebc7990>,\n",
              "  <matplotlib.lines.Line2D at 0x7fce6ebd8ed0>,\n",
              "  <matplotlib.lines.Line2D at 0x7fce6ebf2450>,\n",
              "  <matplotlib.lines.Line2D at 0x7fce6eb83a10>,\n",
              "  <matplotlib.lines.Line2D at 0x7fce6eb95f50>,\n",
              "  <matplotlib.lines.Line2D at 0x7fce6ebad4d0>,\n",
              "  <matplotlib.lines.Line2D at 0x7fce6eb3f990>,\n",
              "  <matplotlib.lines.Line2D at 0x7fce6eb50e50>,\n",
              "  <matplotlib.lines.Line2D at 0x7fce6eb6a3d0>,\n",
              "  <matplotlib.lines.Line2D at 0x7fce6eafb910>,\n",
              "  <matplotlib.lines.Line2D at 0x7fce6eb0ce50>,\n",
              "  <matplotlib.lines.Line2D at 0x7fce6eb263d0>,\n",
              "  <matplotlib.lines.Line2D at 0x7fce71dd6f10>,\n",
              "  <matplotlib.lines.Line2D at 0x7fce6f084b90>,\n",
              "  <matplotlib.lines.Line2D at 0x7fce6efe3710>,\n",
              "  <matplotlib.lines.Line2D at 0x7fce6ef408d0>,\n",
              "  <matplotlib.lines.Line2D at 0x7fce6eecf190>,\n",
              "  <matplotlib.lines.Line2D at 0x7fce6ef5e690>,\n",
              "  <matplotlib.lines.Line2D at 0x7fce6eeec7d0>,\n",
              "  <matplotlib.lines.Line2D at 0x7fce6edde850>,\n",
              "  <matplotlib.lines.Line2D at 0x7fce6edb1f10>,\n",
              "  <matplotlib.lines.Line2D at 0x7fce6ed70ed0>,\n",
              "  <matplotlib.lines.Line2D at 0x7fce6ecd1490>,\n",
              "  <matplotlib.lines.Line2D at 0x7fce6ec3f790>,\n",
              "  <matplotlib.lines.Line2D at 0x7fce6ebf2d90>,\n",
              "  <matplotlib.lines.Line2D at 0x7fce6eb2eb50>,\n",
              "  <matplotlib.lines.Line2D at 0x7fce6ea250d0>,\n",
              "  <matplotlib.lines.Line2D at 0x7fce6e9b5610>,\n",
              "  <matplotlib.lines.Line2D at 0x7fce6e9c6b50>],\n",
              " 'fliers': [<matplotlib.lines.Line2D at 0x7fce6ec25410>,\n",
              "  <matplotlib.lines.Line2D at 0x7fce6ebb5910>,\n",
              "  <matplotlib.lines.Line2D at 0x7fce6ebc7ed0>,\n",
              "  <matplotlib.lines.Line2D at 0x7fce6ebe0450>,\n",
              "  <matplotlib.lines.Line2D at 0x7fce6ebf29d0>,\n",
              "  <matplotlib.lines.Line2D at 0x7fce6eb83f50>,\n",
              "  <matplotlib.lines.Line2D at 0x7fce6eb9c4d0>,\n",
              "  <matplotlib.lines.Line2D at 0x7fce6ebada10>,\n",
              "  <matplotlib.lines.Line2D at 0x7fce6eb3fe90>,\n",
              "  <matplotlib.lines.Line2D at 0x7fce6eb593d0>,\n",
              "  <matplotlib.lines.Line2D at 0x7fce6eb6a910>,\n",
              "  <matplotlib.lines.Line2D at 0x7fce6eafbe50>,\n",
              "  <matplotlib.lines.Line2D at 0x7fce6eb143d0>,\n",
              "  <matplotlib.lines.Line2D at 0x7fce6eb26910>,\n",
              "  <matplotlib.lines.Line2D at 0x7fce71e37150>,\n",
              "  <matplotlib.lines.Line2D at 0x7fce71dea950>,\n",
              "  <matplotlib.lines.Line2D at 0x7fce6ef92d10>,\n",
              "  <matplotlib.lines.Line2D at 0x7fce7196a750>,\n",
              "  <matplotlib.lines.Line2D at 0x7fce6ef6fbd0>,\n",
              "  <matplotlib.lines.Line2D at 0x7fce6eee5d50>,\n",
              "  <matplotlib.lines.Line2D at 0x7fce6ee60c90>,\n",
              "  <matplotlib.lines.Line2D at 0x7fce6edd8c50>,\n",
              "  <matplotlib.lines.Line2D at 0x7fce6ede1490>,\n",
              "  <matplotlib.lines.Line2D at 0x7fce6ee56550>,\n",
              "  <matplotlib.lines.Line2D at 0x7fce6ecdcbd0>,\n",
              "  <matplotlib.lines.Line2D at 0x7fce6ec99e50>,\n",
              "  <matplotlib.lines.Line2D at 0x7fce6eb95750>,\n",
              "  <matplotlib.lines.Line2D at 0x7fce6ea130d0>,\n",
              "  <matplotlib.lines.Line2D at 0x7fce6ea25610>,\n",
              "  <matplotlib.lines.Line2D at 0x7fce6e9b5b50>,\n",
              "  <matplotlib.lines.Line2D at 0x7fce6e9ce0d0>],\n",
              " 'means': []}"
            ]
          },
          "metadata": {},
          "execution_count": 20
        },
        {
          "output_type": "display_data",
          "data": {
            "text/plain": [
              "<Figure size 432x288 with 1 Axes>"
            ],
            "image/png": "[encoded data removed]"
          },
          "metadata": {
            "needs_background": "light"
          }
        }
      ]
    },
    {
      "cell_type": "code",
      "source": [
        "plt.boxplot(base['Volume'], vert= False)\n",
        "plt.boxplot(base['Girth'], vert= False)\n",
        "plt.boxplot(base['Height'], vert= False)\n",
        "plt.title('Arvores')\n",
        "plt.xlabel('Dadpos')"
      ],
      "metadata": {
        "colab": {
          "base_uri": "https://localhost:8080/",
          "height": 312
        },
        "id": "SmGUWmfU4t1b",
        "outputId": "0cc8d01e-be50-455b-a81c-989593a0a47d"
      },
      "execution_count": 21,
      "outputs": [
        {
          "output_type": "execute_result",
          "data": {
            "text/plain": [
              "Text(0.5, 0, 'Dadpos')"
            ]
          },
          "metadata": {},
          "execution_count": 21
        },
        {
          "output_type": "display_data",
          "data": {
            "text/plain": [
              "<Figure size 432x288 with 1 Axes>"
            ],
            "image/png": "[encoded data removed]"
          },
          "metadata": {
            "needs_background": "light"
          }
        }
      ]
    },
    {
      "cell_type": "markdown",
      "source": [
        "###Utilizando o Seaborn"
      ],
      "metadata": {
        "id": "C7fP0TVb9WR0"
      }
    },
    {
      "cell_type": "code",
      "source": [
        "sea.boxplot(base['Volume']).set_title('Arvores')"
      ],
      "metadata": {
        "colab": {
          "base_uri": "https://localhost:8080/",
          "height": 367
        },
        "id": "FmgJYeor9c6L",
        "outputId": "393d736b-50eb-4b59-e99e-1cecfb64e820"
      },
      "execution_count": 22,
      "outputs": [
        {
          "output_type": "stream",
          "name": "stderr",
          "text": [
            "/usr/local/lib/python3.7/dist-packages/seaborn/_decorators.py:43: FutureWarning: Pass the following variable as a keyword arg: x. From version 0.12, the only valid positional argument will be `data`, and passing other arguments without an explicit keyword will result in an error or misinterpretation.\n",
            "  FutureWarning\n"
          ]
        },
        {
          "output_type": "execute_result",
          "data": {
            "text/plain": [
              "Text(0.5, 1.0, 'Arvores')"
            ]
          },
          "metadata": {},
          "execution_count": 22
        },
        {
          "output_type": "display_data",
          "data": {
            "text/plain": [
              "<Figure size 432x288 with 1 Axes>"
            ],
            "image/png": "[encoded data removed]"
          },
          "metadata": {
            "needs_background": "light"
          }
        }
      ]
    },
    {
      "cell_type": "markdown",
      "source": [
        "#Gráfico de Barras e Setores"
      ],
      "metadata": {
        "id": "iId9FTLk2uEf"
      }
    },
    {
      "cell_type": "code",
      "source": [
        "base3 = pd.read_csv('/content/drive/MyDrive/todos os arquivos/13.Prática em Python/dados/insect.csv')\n",
        "base3.head()"
      ],
      "metadata": {
        "colab": {
          "base_uri": "https://localhost:8080/",
          "height": 206
        },
        "id": "9a1S3_O42xp2",
        "outputId": "d547149c-e0bf-49b6-86a6-284cd8f2ef07"
      },
      "execution_count": 23,
      "outputs": [
        {
          "output_type": "execute_result",
          "data": {
            "text/plain": [
              "   count spray\n",
              "0     10     A\n",
              "1      7     A\n",
              "2     20     A\n",
              "3     14     A\n",
              "4     14     A"
            ],
            "text/html": [
              "\n",
              "  <div id=\"df-68954d76-0794-4354-afe8-a94b3342d734\">\n",
              "    <div class=\"colab-df-container\">\n",
              "      <div>\n",
              "<style scoped>\n",
              "    .dataframe tbody tr th:only-of-type {\n",
              "        vertical-align: middle;\n",
              "    }\n",
              "\n",
              "    .dataframe tbody tr th {\n",
              "        vertical-align: top;\n",
              "    }\n",
              "\n",
              "    .dataframe thead th {\n",
              "        text-align: right;\n",
              "    }\n",
              "</style>\n",
              "<table border=\"1\" class=\"dataframe\">\n",
              "  <thead>\n",
              "    <tr style=\"text-align: right;\">\n",
              "      <th></th>\n",
              "      <th>count</th>\n",
              "      <th>spray</th>\n",
              "    </tr>\n",
              "  </thead>\n",
              "  <tbody>\n",
              "    <tr>\n",
              "      <th>0</th>\n",
              "      <td>10</td>\n",
              "      <td>A</td>\n",
              "    </tr>\n",
              "    <tr>\n",
              "      <th>1</th>\n",
              "      <td>7</td>\n",
              "      <td>A</td>\n",
              "    </tr>\n",
              "    <tr>\n",
              "      <th>2</th>\n",
              "      <td>20</td>\n",
              "      <td>A</td>\n",
              "    </tr>\n",
              "    <tr>\n",
              "      <th>3</th>\n",
              "      <td>14</td>\n",
              "      <td>A</td>\n",
              "    </tr>\n",
              "    <tr>\n",
              "      <th>4</th>\n",
              "      <td>14</td>\n",
              "      <td>A</td>\n",
              "    </tr>\n",
              "  </tbody>\n",
              "</table>\n",
              "</div>\n",
              "      <button class=\"colab-df-convert\" onclick=\"convertToInteractive('df-68954d76-0794-4354-afe8-a94b3342d734')\"\n",
              "              title=\"Convert this dataframe to an interactive table.\"\n",
              "              style=\"display:none;\">\n",
              "        \n",
              "  <svg xmlns=\"http://www.w3.org/2000/svg\" height=\"24px\"viewBox=\"0 0 24 24\"\n",
              "       width=\"24px\">\n",
              "    <path d=\"M0 0h24v24H0V0z\" fill=\"none\"/>\n",
              "    <path d=\"M18.56 5.44l.94 2.06.94-2.06 2.06-.94-2.06-.94-.94-2.06-.94 2.06-2.06.94zm-11 1L8.5 8.5l.94-2.06 2.06-.94-2.06-.94L8.5 2.5l-.94 2.06-2.06.94zm10 10l.94 2.06.94-2.06 2.06-.94-2.06-.94-.94-2.06-.94 2.06-2.06.94z\"/><path d=\"M17.41 7.96l-1.37-1.37c-.4-.4-.92-.59-1.43-.59-.52 0-1.04.2-1.43.59L10.3 9.45l-7.72 7.72c-.78.78-.78 2.05 0 2.83L4 21.41c.39.39.9.59 1.41.59.51 0 1.02-.2 1.41-.59l7.78-7.78 2.81-2.81c.8-.78.8-2.07 0-2.86zM5.41 20L4 18.59l7.72-7.72 1.47 1.35L5.41 20z\"/>\n",
              "  </svg>\n",
              "      </button>\n",
              "      \n",
              "  <style>\n",
              "    .colab-df-container {\n",
              "      display:flex;\n",
              "      flex-wrap:wrap;\n",
              "      gap: 12px;\n",
              "    }\n",
              "\n",
              "    .colab-df-convert {\n",
              "      background-color: #E8F0FE;\n",
              "      border: none;\n",
              "      border-radius: 50%;\n",
              "      cursor: pointer;\n",
              "      display: none;\n",
              "      fill: #1967D2;\n",
              "      height: 32px;\n",
              "      padding: 0 0 0 0;\n",
              "      width: 32px;\n",
              "    }\n",
              "\n",
              "    .colab-df-convert:hover {\n",
              "      background-color: #E2EBFA;\n",
              "      box-shadow: 0px 1px 2px rgba(60, 64, 67, 0.3), 0px 1px 3px 1px rgba(60, 64, 67, 0.15);\n",
              "      fill: #174EA6;\n",
              "    }\n",
              "\n",
              "    [theme=dark] .colab-df-convert {\n",
              "      background-color: #3B4455;\n",
              "      fill: #D2E3FC;\n",
              "    }\n",
              "\n",
              "    [theme=dark] .colab-df-convert:hover {\n",
              "      background-color: #434B5C;\n",
              "      box-shadow: 0px 1px 3px 1px rgba(0, 0, 0, 0.15);\n",
              "      filter: drop-shadow(0px 1px 2px rgba(0, 0, 0, 0.3));\n",
              "      fill: #FFFFFF;\n",
              "    }\n",
              "  </style>\n",
              "\n",
              "      <script>\n",
              "        const buttonEl =\n",
              "          document.querySelector('#df-68954d76-0794-4354-afe8-a94b3342d734 button.colab-df-convert');\n",
              "        buttonEl.style.display =\n",
              "          google.colab.kernel.accessAllowed ? 'block' : 'none';\n",
              "\n",
              "        async function convertToInteractive(key) {\n",
              "          const element = document.querySelector('#df-68954d76-0794-4354-afe8-a94b3342d734');\n",
              "          const dataTable =\n",
              "            await google.colab.kernel.invokeFunction('convertToInteractive',\n",
              "                                                     [key], {});\n",
              "          if (!dataTable) return;\n",
              "\n",
              "          const docLinkHtml = 'Like what you see? Visit the ' +\n",
              "            '<a target=\"_blank\" href=https://colab.research.google.com/notebooks/data_table.ipynb>data table notebook</a>'\n",
              "            + ' to learn more about interactive tables.';\n",
              "          element.innerHTML = '';\n",
              "          dataTable['output_type'] = 'display_data';\n",
              "          await google.colab.output.renderOutput(dataTable, element);\n",
              "          const docLink = document.createElement('div');\n",
              "          docLink.innerHTML = docLinkHtml;\n",
              "          element.appendChild(docLink);\n",
              "        }\n",
              "      </script>\n",
              "    </div>\n",
              "  </div>\n",
              "  "
            ]
          },
          "metadata": {},
          "execution_count": 23
        }
      ]
    },
    {
      "cell_type": "code",
      "source": [
        "agrupado = base3.groupby('spray')['count'].sum()\n",
        "agrupado"
      ],
      "metadata": {
        "colab": {
          "base_uri": "https://localhost:8080/"
        },
        "id": "9628Tvdm4U2w",
        "outputId": "d744d6c0-bc3d-4dc5-fa19-eaf6e2bceb51"
      },
      "execution_count": 24,
      "outputs": [
        {
          "output_type": "execute_result",
          "data": {
            "text/plain": [
              "spray\n",
              "A    174\n",
              "B    184\n",
              "C     25\n",
              "D     59\n",
              "E     42\n",
              "F    200\n",
              "Name: count, dtype: int64"
            ]
          },
          "metadata": {},
          "execution_count": 24
        }
      ]
    },
    {
      "cell_type": "code",
      "source": [
        "agrupado.plot.bar(color= ['blue', 'gray', 'green', 'orange', 'yellow', 'purple'])"
      ],
      "metadata": {
        "colab": {
          "base_uri": "https://localhost:8080/",
          "height": 294
        },
        "id": "U-tlfSjx69zl",
        "outputId": "bab9261a-d79a-4619-e08f-cd7c9354130d"
      },
      "execution_count": 25,
      "outputs": [
        {
          "output_type": "execute_result",
          "data": {
            "text/plain": [
              "<matplotlib.axes._subplots.AxesSubplot at 0x7fce6e73d210>"
            ]
          },
          "metadata": {},
          "execution_count": 25
        },
        {
          "output_type": "display_data",
          "data": {
            "text/plain": [
              "<Figure size 432x288 with 1 Axes>"
            ],
            "image/png": "[encoded data removed]"
          },
          "metadata": {
            "needs_background": "light"
          }
        }
      ]
    },
    {
      "cell_type": "code",
      "source": [
        "agrupado.plot.pie()"
      ],
      "metadata": {
        "colab": {
          "base_uri": "https://localhost:8080/",
          "height": 265
        },
        "id": "yAUlDlwb7PSE",
        "outputId": "8a6c9e91-1c35-4f90-8109-7dc7140cbd43"
      },
      "execution_count": 26,
      "outputs": [
        {
          "output_type": "execute_result",
          "data": {
            "text/plain": [
              "<matplotlib.axes._subplots.AxesSubplot at 0x7fce6e6c55d0>"
            ]
          },
          "metadata": {},
          "execution_count": 26
        },
        {
          "output_type": "display_data",
          "data": {
            "text/plain": [
              "<Figure size 432x288 with 1 Axes>"
            ],
            "image/png": "[encoded data removed]"
          },
          "metadata": {}
        }
      ]
    },
    {
      "cell_type": "code",
      "source": [
        "agrupado.plot.pie(legend=True)"
      ],
      "metadata": {
        "colab": {
          "base_uri": "https://localhost:8080/",
          "height": 265
        },
        "id": "_p3tzRDV7Czw",
        "outputId": "cbc21002-d712-4aff-bf29-49cdd5a5369a"
      },
      "execution_count": 27,
      "outputs": [
        {
          "output_type": "execute_result",
          "data": {
            "text/plain": [
              "<matplotlib.axes._subplots.AxesSubplot at 0x7fce6e6a9bd0>"
            ]
          },
          "metadata": {},
          "execution_count": 27
        },
        {
          "output_type": "display_data",
          "data": {
            "text/plain": [
              "<Figure size 432x288 with 1 Axes>"
            ],
            "image/png": "[encoded data removed]"
          },
          "metadata": {}
        }
      ]
    },
    {
      "cell_type": "markdown",
      "source": [
        "#Gráficos 3d"
      ],
      "metadata": {
        "id": "Nb9eD8G6-Xo2"
      }
    },
    {
      "cell_type": "code",
      "source": [
        "base3 = pd.read_csv('/content/drive/MyDrive/todos os arquivos/13.Prática em Python/dados/orchard.csv')\n",
        "base3.head()"
      ],
      "metadata": {
        "id": "RRQzwb9i-aWM",
        "colab": {
          "base_uri": "https://localhost:8080/",
          "height": 206
        },
        "outputId": "17301bf4-cceb-498a-e5d6-2eac3ce5fe38"
      },
      "execution_count": 28,
      "outputs": [
        {
          "output_type": "execute_result",
          "data": {
            "text/plain": [
              "   decrease  rowpos  colpos treatment\n",
              "0        57       1       1         D\n",
              "1        95       2       1         E\n",
              "2         8       3       1         B\n",
              "3        69       4       1         H\n",
              "4        92       5       1         G"
            ],
            "text/html": [
              "\n",
              "  <div id=\"df-1e0bf9fb-34a6-48c1-a9d1-e77bce9fccc2\">\n",
              "    <div class=\"colab-df-container\">\n",
              "      <div>\n",
              "<style scoped>\n",
              "    .dataframe tbody tr th:only-of-type {\n",
              "        vertical-align: middle;\n",
              "    }\n",
              "\n",
              "    .dataframe tbody tr th {\n",
              "        vertical-align: top;\n",
              "    }\n",
              "\n",
              "    .dataframe thead th {\n",
              "        text-align: right;\n",
              "    }\n",
              "</style>\n",
              "<table border=\"1\" class=\"dataframe\">\n",
              "  <thead>\n",
              "    <tr style=\"text-align: right;\">\n",
              "      <th></th>\n",
              "      <th>decrease</th>\n",
              "      <th>rowpos</th>\n",
              "      <th>colpos</th>\n",
              "      <th>treatment</th>\n",
              "    </tr>\n",
              "  </thead>\n",
              "  <tbody>\n",
              "    <tr>\n",
              "      <th>0</th>\n",
              "      <td>57</td>\n",
              "      <td>1</td>\n",
              "      <td>1</td>\n",
              "      <td>D</td>\n",
              "    </tr>\n",
              "    <tr>\n",
              "      <th>1</th>\n",
              "      <td>95</td>\n",
              "      <td>2</td>\n",
              "      <td>1</td>\n",
              "      <td>E</td>\n",
              "    </tr>\n",
              "    <tr>\n",
              "      <th>2</th>\n",
              "      <td>8</td>\n",
              "      <td>3</td>\n",
              "      <td>1</td>\n",
              "      <td>B</td>\n",
              "    </tr>\n",
              "    <tr>\n",
              "      <th>3</th>\n",
              "      <td>69</td>\n",
              "      <td>4</td>\n",
              "      <td>1</td>\n",
              "      <td>H</td>\n",
              "    </tr>\n",
              "    <tr>\n",
              "      <th>4</th>\n",
              "      <td>92</td>\n",
              "      <td>5</td>\n",
              "      <td>1</td>\n",
              "      <td>G</td>\n",
              "    </tr>\n",
              "  </tbody>\n",
              "</table>\n",
              "</div>\n",
              "      <button class=\"colab-df-convert\" onclick=\"convertToInteractive('df-1e0bf9fb-34a6-48c1-a9d1-e77bce9fccc2')\"\n",
              "              title=\"Convert this dataframe to an interactive table.\"\n",
              "              style=\"display:none;\">\n",
              "        \n",
              "  <svg xmlns=\"http://www.w3.org/2000/svg\" height=\"24px\"viewBox=\"0 0 24 24\"\n",
              "       width=\"24px\">\n",
              "    <path d=\"M0 0h24v24H0V0z\" fill=\"none\"/>\n",
              "    <path d=\"M18.56 5.44l.94 2.06.94-2.06 2.06-.94-2.06-.94-.94-2.06-.94 2.06-2.06.94zm-11 1L8.5 8.5l.94-2.06 2.06-.94-2.06-.94L8.5 2.5l-.94 2.06-2.06.94zm10 10l.94 2.06.94-2.06 2.06-.94-2.06-.94-.94-2.06-.94 2.06-2.06.94z\"/><path d=\"M17.41 7.96l-1.37-1.37c-.4-.4-.92-.59-1.43-.59-.52 0-1.04.2-1.43.59L10.3 9.45l-7.72 7.72c-.78.78-.78 2.05 0 2.83L4 21.41c.39.39.9.59 1.41.59.51 0 1.02-.2 1.41-.59l7.78-7.78 2.81-2.81c.8-.78.8-2.07 0-2.86zM5.41 20L4 18.59l7.72-7.72 1.47 1.35L5.41 20z\"/>\n",
              "  </svg>\n",
              "      </button>\n",
              "      \n",
              "  <style>\n",
              "    .colab-df-container {\n",
              "      display:flex;\n",
              "      flex-wrap:wrap;\n",
              "      gap: 12px;\n",
              "    }\n",
              "\n",
              "    .colab-df-convert {\n",
              "      background-color: #E8F0FE;\n",
              "      border: none;\n",
              "      border-radius: 50%;\n",
              "      cursor: pointer;\n",
              "      display: none;\n",
              "      fill: #1967D2;\n",
              "      height: 32px;\n",
              "      padding: 0 0 0 0;\n",
              "      width: 32px;\n",
              "    }\n",
              "\n",
              "    .colab-df-convert:hover {\n",
              "      background-color: #E2EBFA;\n",
              "      box-shadow: 0px 1px 2px rgba(60, 64, 67, 0.3), 0px 1px 3px 1px rgba(60, 64, 67, 0.15);\n",
              "      fill: #174EA6;\n",
              "    }\n",
              "\n",
              "    [theme=dark] .colab-df-convert {\n",
              "      background-color: #3B4455;\n",
              "      fill: #D2E3FC;\n",
              "    }\n",
              "\n",
              "    [theme=dark] .colab-df-convert:hover {\n",
              "      background-color: #434B5C;\n",
              "      box-shadow: 0px 1px 3px 1px rgba(0, 0, 0, 0.15);\n",
              "      filter: drop-shadow(0px 1px 2px rgba(0, 0, 0, 0.3));\n",
              "      fill: #FFFFFF;\n",
              "    }\n",
              "  </style>\n",
              "\n",
              "      <script>\n",
              "        const buttonEl =\n",
              "          document.querySelector('#df-1e0bf9fb-34a6-48c1-a9d1-e77bce9fccc2 button.colab-df-convert');\n",
              "        buttonEl.style.display =\n",
              "          google.colab.kernel.accessAllowed ? 'block' : 'none';\n",
              "\n",
              "        async function convertToInteractive(key) {\n",
              "          const element = document.querySelector('#df-1e0bf9fb-34a6-48c1-a9d1-e77bce9fccc2');\n",
              "          const dataTable =\n",
              "            await google.colab.kernel.invokeFunction('convertToInteractive',\n",
              "                                                     [key], {});\n",
              "          if (!dataTable) return;\n",
              "\n",
              "          const docLinkHtml = 'Like what you see? Visit the ' +\n",
              "            '<a target=\"_blank\" href=https://colab.research.google.com/notebooks/data_table.ipynb>data table notebook</a>'\n",
              "            + ' to learn more about interactive tables.';\n",
              "          element.innerHTML = '';\n",
              "          dataTable['output_type'] = 'display_data';\n",
              "          await google.colab.output.renderOutput(dataTable, element);\n",
              "          const docLink = document.createElement('div');\n",
              "          docLink.innerHTML = docLinkHtml;\n",
              "          element.appendChild(docLink);\n",
              "        }\n",
              "      </script>\n",
              "    </div>\n",
              "  </div>\n",
              "  "
            ]
          },
          "metadata": {},
          "execution_count": 28
        }
      ]
    },
    {
      "cell_type": "code",
      "source": [
        "figura = plt.figure()\n",
        "eixo = figura.add_subplot(1,1,1,projection= '3d')\n",
        "eixo.scatter(base3['decrease'], base3['rowpos'], base3['colpos'])\n",
        "eixo.set_xlabel('decrease')\n",
        "eixo.set_ylabel('rowpos')\n",
        "eixo.set_zlabel('colpos')"
      ],
      "metadata": {
        "colab": {
          "base_uri": "https://localhost:8080/",
          "height": 265
        },
        "id": "lVn7ojzTIq1c",
        "outputId": "fbd9b438-3ff2-430a-c25b-d4047e25596d"
      },
      "execution_count": 36,
      "outputs": [
        {
          "output_type": "execute_result",
          "data": {
            "text/plain": [
              "Text(0.5, 0, 'colpos')"
            ]
          },
          "metadata": {},
          "execution_count": 36
        },
        {
          "output_type": "display_data",
          "data": {
            "text/plain": [
              "<Figure size 432x288 with 1 Axes>"
            ],
            "image/png": "[encoded data removed]"
          },
          "metadata": {
            "needs_background": "light"
          }
        }
      ]
    }
  ],
  "metadata": {
    "jupytext": {
      "cell_metadata_filter": "-all",
      "main_language": "python",
      "notebook_metadata_filter": "-all"
    },
    "kernelspec": {
      "display_name": "Python 3",
      "language": "python",
      "name": "python3"
    },
    "language_info": {
      "codemirror_mode": {
        "name": "ipython",
        "version": 3
      },
      "file_extension": ".py",
      "mimetype": "text/x-python",
      "name": "python",
      "nbconvert_exporter": "python",
      "pygments_lexer": "ipython3",
      "version": "3.7.6"
    },
    "colab": {
      "provenance": [],
      "include_colab_link": true
    }
  },
  "nbformat": 4,
  "nbformat_minor": 0
}